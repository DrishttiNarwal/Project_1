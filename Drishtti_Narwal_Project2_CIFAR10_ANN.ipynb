{
  "nbformat": 4,
  "nbformat_minor": 0,
  "metadata": {
    "colab": {
      "provenance": [],
      "authorship_tag": "ABX9TyNnMOMaJ6h1KGJnolFma3db",
      "include_colab_link": true
    },
    "kernelspec": {
      "name": "python3",
      "display_name": "Python 3"
    },
    "language_info": {
      "name": "python"
    }
  },
  "cells": [
    {
      "cell_type": "markdown",
      "metadata": {
        "id": "view-in-github",
        "colab_type": "text"
      },
      "source": [
        "<a href=\"https://colab.research.google.com/github/DrishttiNarwal/Project_1/blob/main/Drishtti_Narwal_Project2_CIFAR10_ANN.ipynb\" target=\"_parent\"><img src=\"https://colab.research.google.com/assets/colab-badge.svg\" alt=\"Open In Colab\"/></a>"
      ]
    },
    {
      "cell_type": "code",
      "execution_count": null,
      "metadata": {
        "id": "d5n-lJOh-T57"
      },
      "outputs": [],
      "source": [
        "#Project 2:\n",
        "#Build an ANN and a CNN Model on CIFAR10 dataset using Keras Sequential API\n",
        "#Dataset\n",
        "#https://keras.io/api/datasets/cifar10/"
      ]
    },
    {
      "cell_type": "code",
      "source": [
        "#CIFAR10 Database - The CIFAR-10 dataset (Canadian Institute For Advanced Research) is a collection of images that are\n",
        "#                   commonly used to train machine learning and computer vision algorithms.\n",
        "#                   It is one of the most widely used datasets for machine learning research."
      ],
      "metadata": {
        "id": "N0Vtjllp-_H9"
      },
      "execution_count": null,
      "outputs": []
    },
    {
      "cell_type": "code",
      "source": [
        "#importing keras from tensorflow\n",
        "from tensorflow import keras"
      ],
      "metadata": {
        "id": "4UR2Dq9t-_CZ"
      },
      "execution_count": null,
      "outputs": []
    },
    {
      "cell_type": "code",
      "source": [
        "#downloading files and images\n",
        "(x_train,y_train),(x_test, y_test) = keras.datasets.cifar10.load_data()"
      ],
      "metadata": {
        "colab": {
          "base_uri": "https://localhost:8080/"
        },
        "id": "sAq9iYeJ--_2",
        "outputId": "abe49fb8-71aa-427d-c96b-0a7fc42823a8"
      },
      "execution_count": null,
      "outputs": [
        {
          "output_type": "stream",
          "name": "stdout",
          "text": [
            "Downloading data from https://www.cs.toronto.edu/~kriz/cifar-10-python.tar.gz\n",
            "170498071/170498071 [==============================] - 2s 0us/step\n"
          ]
        }
      ]
    },
    {
      "cell_type": "code",
      "source": [
        "print(x_train.shape)\n",
        "print(x_test.shape)\n",
        "print(y_train.shape)\n",
        "print(y_test.shape)"
      ],
      "metadata": {
        "colab": {
          "base_uri": "https://localhost:8080/"
        },
        "id": "CJf2OkSm--9D",
        "outputId": "640e09ef-6c78-4306-a6ba-a60c75215e24"
      },
      "execution_count": null,
      "outputs": [
        {
          "output_type": "stream",
          "name": "stdout",
          "text": [
            "(50000, 32, 32, 3)\n",
            "(10000, 32, 32, 3)\n",
            "(50000, 1)\n",
            "(10000, 1)\n"
          ]
        }
      ]
    },
    {
      "cell_type": "code",
      "source": [
        "x_train[0].shape"
      ],
      "metadata": {
        "colab": {
          "base_uri": "https://localhost:8080/"
        },
        "id": "Xuz7GGUL--6l",
        "outputId": "a8447c0f-9454-41c6-c3cf-db8306c8aac3"
      },
      "execution_count": null,
      "outputs": [
        {
          "output_type": "execute_result",
          "data": {
            "text/plain": [
              "(32, 32, 3)"
            ]
          },
          "metadata": {},
          "execution_count": 6
        }
      ]
    },
    {
      "cell_type": "code",
      "source": [
        "x_train[0]"
      ],
      "metadata": {
        "colab": {
          "base_uri": "https://localhost:8080/"
        },
        "id": "xGHu-kZo--3g",
        "outputId": "a193f684-9433-4b51-8c38-ea6973c3c2f2"
      },
      "execution_count": null,
      "outputs": [
        {
          "output_type": "execute_result",
          "data": {
            "text/plain": [
              "array([[[ 59,  62,  63],\n",
              "        [ 43,  46,  45],\n",
              "        [ 50,  48,  43],\n",
              "        ...,\n",
              "        [158, 132, 108],\n",
              "        [152, 125, 102],\n",
              "        [148, 124, 103]],\n",
              "\n",
              "       [[ 16,  20,  20],\n",
              "        [  0,   0,   0],\n",
              "        [ 18,   8,   0],\n",
              "        ...,\n",
              "        [123,  88,  55],\n",
              "        [119,  83,  50],\n",
              "        [122,  87,  57]],\n",
              "\n",
              "       [[ 25,  24,  21],\n",
              "        [ 16,   7,   0],\n",
              "        [ 49,  27,   8],\n",
              "        ...,\n",
              "        [118,  84,  50],\n",
              "        [120,  84,  50],\n",
              "        [109,  73,  42]],\n",
              "\n",
              "       ...,\n",
              "\n",
              "       [[208, 170,  96],\n",
              "        [201, 153,  34],\n",
              "        [198, 161,  26],\n",
              "        ...,\n",
              "        [160, 133,  70],\n",
              "        [ 56,  31,   7],\n",
              "        [ 53,  34,  20]],\n",
              "\n",
              "       [[180, 139,  96],\n",
              "        [173, 123,  42],\n",
              "        [186, 144,  30],\n",
              "        ...,\n",
              "        [184, 148,  94],\n",
              "        [ 97,  62,  34],\n",
              "        [ 83,  53,  34]],\n",
              "\n",
              "       [[177, 144, 116],\n",
              "        [168, 129,  94],\n",
              "        [179, 142,  87],\n",
              "        ...,\n",
              "        [216, 184, 140],\n",
              "        [151, 118,  84],\n",
              "        [123,  92,  72]]], dtype=uint8)"
            ]
          },
          "metadata": {},
          "execution_count": 7
        }
      ]
    },
    {
      "cell_type": "code",
      "source": [
        "import matplotlib.pyplot as plt\n",
        "i = 255\n",
        "plt.imshow(x_train[i], cmap = 'gray')\n",
        "plt.show()\n",
        "y_train[i]"
      ],
      "metadata": {
        "colab": {
          "base_uri": "https://localhost:8080/",
          "height": 284
        },
        "id": "HEG1F-WM--0s",
        "outputId": "c9581c5f-f34e-4430-b8ef-b0a4ee627f03"
      },
      "execution_count": null,
      "outputs": [
        {
          "output_type": "display_data",
          "data": {
            "text/plain": [
              "<Figure size 432x288 with 1 Axes>"
            ],
            "image/png": "[encoded data removed]"
          },
          "metadata": {
            "needs_background": "light"
          }
        },
        {
          "output_type": "execute_result",
          "data": {
            "text/plain": [
              "array([1], dtype=uint8)"
            ]
          },
          "metadata": {},
          "execution_count": 11
        }
      ]
    },
    {
      "cell_type": "code",
      "source": [
        "import matplotlib.pyplot as plt\n",
        "i = 102\n",
        "plt.imshow(x_train[i], cmap = 'gray')\n",
        "plt.show()\n",
        "y_train[i]"
      ],
      "metadata": {
        "colab": {
          "base_uri": "https://localhost:8080/",
          "height": 284
        },
        "id": "eXn_a-D8--xy",
        "outputId": "5b14a650-8785-418c-aaab-c2aac332a851"
      },
      "execution_count": null,
      "outputs": [
        {
          "output_type": "display_data",
          "data": {
            "text/plain": [
              "<Figure size 432x288 with 1 Axes>"
            ],
            "image/png": "[encoded data removed]"
          },
          "metadata": {
            "needs_background": "light"
          }
        },
        {
          "output_type": "execute_result",
          "data": {
            "text/plain": [
              "array([9], dtype=uint8)"
            ]
          },
          "metadata": {},
          "execution_count": 13
        }
      ]
    },
    {
      "cell_type": "code",
      "source": [
        "import matplotlib.pyplot as plt\n",
        "i = 1764\n",
        "plt.imshow(x_train[i], cmap = 'gray')\n",
        "plt.show()\n",
        "y_train[i]"
      ],
      "metadata": {
        "colab": {
          "base_uri": "https://localhost:8080/",
          "height": 284
        },
        "id": "eUsy42ce--vJ",
        "outputId": "27aff751-6e30-4c98-cb3f-3517bcc5faf1"
      },
      "execution_count": null,
      "outputs": [
        {
          "output_type": "display_data",
          "data": {
            "text/plain": [
              "<Figure size 432x288 with 1 Axes>"
            ],
            "image/png": "[encoded data removed]"
          },
          "metadata": {
            "needs_background": "light"
          }
        },
        {
          "output_type": "execute_result",
          "data": {
            "text/plain": [
              "array([7], dtype=uint8)"
            ]
          },
          "metadata": {},
          "execution_count": 14
        }
      ]
    },
    {
      "cell_type": "code",
      "source": [
        "x_train[i]"
      ],
      "metadata": {
        "colab": {
          "base_uri": "https://localhost:8080/"
        },
        "id": "-Oldw5cL--rw",
        "outputId": "0c30b2fb-4159-4edd-e309-1a0004f377c3"
      },
      "execution_count": null,
      "outputs": [
        {
          "output_type": "execute_result",
          "data": {
            "text/plain": [
              "array([[[111, 136, 132],\n",
              "        [111, 139, 137],\n",
              "        [131, 170, 185],\n",
              "        ...,\n",
              "        [ 18,  33,  29],\n",
              "        [ 22,  36,  35],\n",
              "        [ 29,  37,  37]],\n",
              "\n",
              "       [[ 95, 117, 116],\n",
              "        [ 89, 109, 106],\n",
              "        [104, 131, 129],\n",
              "        ...,\n",
              "        [ 74,  84, 103],\n",
              "        [ 68,  83, 100],\n",
              "        [ 56,  67,  79]],\n",
              "\n",
              "       [[ 89, 110, 105],\n",
              "        [ 78,  92,  81],\n",
              "        [ 91, 105,  89],\n",
              "        ...,\n",
              "        [ 93, 103, 125],\n",
              "        [ 77,  95, 116],\n",
              "        [ 54,  69,  80]],\n",
              "\n",
              "       ...,\n",
              "\n",
              "       [[217, 200, 171],\n",
              "        [215, 198, 170],\n",
              "        [213, 196, 168],\n",
              "        ...,\n",
              "        [187, 180, 175],\n",
              "        [189, 181, 179],\n",
              "        [197, 189, 187]],\n",
              "\n",
              "       [[207, 191, 165],\n",
              "        [206, 190, 163],\n",
              "        [209, 192, 166],\n",
              "        ...,\n",
              "        [191, 184, 180],\n",
              "        [197, 190, 188],\n",
              "        [197, 190, 188]],\n",
              "\n",
              "       [[155, 148, 131],\n",
              "        [154, 145, 128],\n",
              "        [157, 143, 125],\n",
              "        ...,\n",
              "        [178, 172, 168],\n",
              "        [194, 189, 186],\n",
              "        [194, 190, 187]]], dtype=uint8)"
            ]
          },
          "metadata": {},
          "execution_count": 15
        }
      ]
    },
    {
      "cell_type": "code",
      "source": [
        "#normalising data\n",
        "x_train = x_train/255\n",
        "x_test = x_test/255"
      ],
      "metadata": {
        "id": "ai75o3Kz--o6"
      },
      "execution_count": null,
      "outputs": []
    },
    {
      "cell_type": "code",
      "source": [
        "x_train[i]"
      ],
      "metadata": {
        "colab": {
          "base_uri": "https://localhost:8080/"
        },
        "id": "ETgPvxus--lp",
        "outputId": "a0b921b6-1aab-4312-ad36-a0066c80d0a8"
      },
      "execution_count": null,
      "outputs": [
        {
          "output_type": "execute_result",
          "data": {
            "text/plain": [
              "array([[[0.43529412, 0.53333333, 0.51764706],\n",
              "        [0.43529412, 0.54509804, 0.5372549 ],\n",
              "        [0.51372549, 0.66666667, 0.7254902 ],\n",
              "        ...,\n",
              "        [0.07058824, 0.12941176, 0.11372549],\n",
              "        [0.08627451, 0.14117647, 0.1372549 ],\n",
              "        [0.11372549, 0.14509804, 0.14509804]],\n",
              "\n",
              "       [[0.37254902, 0.45882353, 0.45490196],\n",
              "        [0.34901961, 0.42745098, 0.41568627],\n",
              "        [0.40784314, 0.51372549, 0.50588235],\n",
              "        ...,\n",
              "        [0.29019608, 0.32941176, 0.40392157],\n",
              "        [0.26666667, 0.3254902 , 0.39215686],\n",
              "        [0.21960784, 0.2627451 , 0.30980392]],\n",
              "\n",
              "       [[0.34901961, 0.43137255, 0.41176471],\n",
              "        [0.30588235, 0.36078431, 0.31764706],\n",
              "        [0.35686275, 0.41176471, 0.34901961],\n",
              "        ...,\n",
              "        [0.36470588, 0.40392157, 0.49019608],\n",
              "        [0.30196078, 0.37254902, 0.45490196],\n",
              "        [0.21176471, 0.27058824, 0.31372549]],\n",
              "\n",
              "       ...,\n",
              "\n",
              "       [[0.85098039, 0.78431373, 0.67058824],\n",
              "        [0.84313725, 0.77647059, 0.66666667],\n",
              "        [0.83529412, 0.76862745, 0.65882353],\n",
              "        ...,\n",
              "        [0.73333333, 0.70588235, 0.68627451],\n",
              "        [0.74117647, 0.70980392, 0.70196078],\n",
              "        [0.77254902, 0.74117647, 0.73333333]],\n",
              "\n",
              "       [[0.81176471, 0.74901961, 0.64705882],\n",
              "        [0.80784314, 0.74509804, 0.63921569],\n",
              "        [0.81960784, 0.75294118, 0.65098039],\n",
              "        ...,\n",
              "        [0.74901961, 0.72156863, 0.70588235],\n",
              "        [0.77254902, 0.74509804, 0.7372549 ],\n",
              "        [0.77254902, 0.74509804, 0.7372549 ]],\n",
              "\n",
              "       [[0.60784314, 0.58039216, 0.51372549],\n",
              "        [0.60392157, 0.56862745, 0.50196078],\n",
              "        [0.61568627, 0.56078431, 0.49019608],\n",
              "        ...,\n",
              "        [0.69803922, 0.6745098 , 0.65882353],\n",
              "        [0.76078431, 0.74117647, 0.72941176],\n",
              "        [0.76078431, 0.74509804, 0.73333333]]])"
            ]
          },
          "metadata": {},
          "execution_count": 17
        }
      ]
    },
    {
      "cell_type": "code",
      "source": [
        "model = keras.models.Sequential()\n",
        "model.add(keras.layers.Flatten()) # we flatten it to 784 neurons i.e. 28 * 28 = 784\n",
        "model.add(keras.layers.Dense(512,input_shape=(28,28),activation = 'relu')) #hidden layer\n",
        "model.add(keras.layers.Dense(10,activation = 'softmax')) #output layer\n",
        "\n",
        "#we write input layer only when we have to flatten it.\n",
        "#otherwise it is not needed"
      ],
      "metadata": {
        "id": "pQBaU8Fm--i_"
      },
      "execution_count": null,
      "outputs": []
    },
    {
      "cell_type": "code",
      "source": [
        "#for classification method, categorical crossentropy is used\n",
        "\n",
        "model.compile(optimizer = 'adam',loss = 'sparse_categorical_crossentropy', metrics = ['accuracy'])"
      ],
      "metadata": {
        "id": "7AmCgfCF--ga"
      },
      "execution_count": null,
      "outputs": []
    },
    {
      "cell_type": "code",
      "source": [
        "#Loss and accuracy is obtained\n",
        "\n",
        "history = model.fit(x_train,y_train,epochs = 35)"
      ],
      "metadata": {
        "colab": {
          "base_uri": "https://localhost:8080/"
        },
        "id": "2Dv3iv4O--dm",
        "outputId": "3894a1ff-9743-434b-fef7-2409d093ceee"
      },
      "execution_count": null,
      "outputs": [
        {
          "output_type": "stream",
          "name": "stdout",
          "text": [
            "Epoch 1/35\n",
            "1563/1563 [==============================] - 19s 12ms/step - loss: 1.8942 - accuracy: 0.3262\n",
            "Epoch 2/35\n",
            "1563/1563 [==============================] - 20s 13ms/step - loss: 1.7119 - accuracy: 0.3907\n",
            "Epoch 3/35\n",
            "1563/1563 [==============================] - 19s 12ms/step - loss: 1.6424 - accuracy: 0.4147\n",
            "Epoch 4/35\n",
            "1563/1563 [==============================] - 21s 13ms/step - loss: 1.6061 - accuracy: 0.4284\n",
            "Epoch 5/35\n",
            "1563/1563 [==============================] - 31s 20ms/step - loss: 1.5831 - accuracy: 0.4357\n",
            "Epoch 6/35\n",
            "1563/1563 [==============================] - 20s 13ms/step - loss: 1.5619 - accuracy: 0.4448\n",
            "Epoch 7/35\n",
            "1563/1563 [==============================] - 20s 13ms/step - loss: 1.5470 - accuracy: 0.4482\n",
            "Epoch 8/35\n",
            "1563/1563 [==============================] - 19s 12ms/step - loss: 1.5342 - accuracy: 0.4545\n",
            "Epoch 9/35\n",
            "1563/1563 [==============================] - 22s 14ms/step - loss: 1.5227 - accuracy: 0.4593\n",
            "Epoch 10/35\n",
            "1563/1563 [==============================] - 26s 17ms/step - loss: 1.5051 - accuracy: 0.4642\n",
            "Epoch 11/35\n",
            "1563/1563 [==============================] - 20s 13ms/step - loss: 1.4983 - accuracy: 0.4640\n",
            "Epoch 12/35\n",
            "1563/1563 [==============================] - 19s 12ms/step - loss: 1.4947 - accuracy: 0.4674\n",
            "Epoch 13/35\n",
            "1563/1563 [==============================] - 20s 13ms/step - loss: 1.4803 - accuracy: 0.4744\n",
            "Epoch 14/35\n",
            "1563/1563 [==============================] - 19s 12ms/step - loss: 1.4744 - accuracy: 0.4774\n",
            "Epoch 15/35\n",
            "1563/1563 [==============================] - 20s 13ms/step - loss: 1.4677 - accuracy: 0.4789\n",
            "Epoch 16/35\n",
            "1563/1563 [==============================] - 19s 12ms/step - loss: 1.4577 - accuracy: 0.4809\n",
            "Epoch 17/35\n",
            "1563/1563 [==============================] - 19s 12ms/step - loss: 1.4524 - accuracy: 0.4837\n",
            "Epoch 18/35\n",
            "1563/1563 [==============================] - 19s 12ms/step - loss: 1.4520 - accuracy: 0.4831\n",
            "Epoch 19/35\n",
            "1563/1563 [==============================] - 19s 12ms/step - loss: 1.4444 - accuracy: 0.4868\n",
            "Epoch 20/35\n",
            "1563/1563 [==============================] - 19s 12ms/step - loss: 1.4415 - accuracy: 0.4867\n",
            "Epoch 21/35\n",
            "1563/1563 [==============================] - 19s 12ms/step - loss: 1.4353 - accuracy: 0.4878\n",
            "Epoch 22/35\n",
            "1563/1563 [==============================] - 19s 12ms/step - loss: 1.4293 - accuracy: 0.4905\n",
            "Epoch 23/35\n",
            "1563/1563 [==============================] - 19s 12ms/step - loss: 1.4268 - accuracy: 0.4947\n",
            "Epoch 24/35\n",
            "1563/1563 [==============================] - 19s 12ms/step - loss: 1.4205 - accuracy: 0.4956\n",
            "Epoch 25/35\n",
            "1563/1563 [==============================] - 20s 13ms/step - loss: 1.4177 - accuracy: 0.4978\n",
            "Epoch 26/35\n",
            "1563/1563 [==============================] - 19s 12ms/step - loss: 1.4128 - accuracy: 0.4977\n",
            "Epoch 27/35\n",
            "1563/1563 [==============================] - 20s 13ms/step - loss: 1.4085 - accuracy: 0.5006\n",
            "Epoch 28/35\n",
            "1563/1563 [==============================] - 19s 12ms/step - loss: 1.4031 - accuracy: 0.5005\n",
            "Epoch 29/35\n",
            "1563/1563 [==============================] - 19s 12ms/step - loss: 1.4058 - accuracy: 0.4990\n",
            "Epoch 30/35\n",
            "1563/1563 [==============================] - 19s 12ms/step - loss: 1.3984 - accuracy: 0.5030\n",
            "Epoch 31/35\n",
            "1563/1563 [==============================] - 19s 12ms/step - loss: 1.3953 - accuracy: 0.5031\n",
            "Epoch 32/35\n",
            "1563/1563 [==============================] - 19s 12ms/step - loss: 1.3926 - accuracy: 0.5045\n",
            "Epoch 33/35\n",
            "1563/1563 [==============================] - 19s 12ms/step - loss: 1.3861 - accuracy: 0.5068\n",
            "Epoch 34/35\n",
            "1563/1563 [==============================] - 19s 12ms/step - loss: 1.3871 - accuracy: 0.5053\n",
            "Epoch 35/35\n",
            "1563/1563 [==============================] - 20s 13ms/step - loss: 1.3820 - accuracy: 0.5084\n"
          ]
        }
      ]
    },
    {
      "cell_type": "code",
      "source": [
        "model.get_weights()"
      ],
      "metadata": {
        "colab": {
          "base_uri": "https://localhost:8080/"
        },
        "id": "ZQTcDatf--an",
        "outputId": "19e4f43e-97cb-478f-9a67-b9388a2bbabd"
      },
      "execution_count": null,
      "outputs": [
        {
          "output_type": "execute_result",
          "data": {
            "text/plain": [
              "[array([[-0.01449491,  0.02071651, -0.04011099, ..., -0.04064339,\n",
              "         -0.03485543, -0.00997035],\n",
              "        [-0.00398698, -0.02520213,  0.03118103, ..., -0.01974962,\n",
              "          0.00532637,  0.02430222],\n",
              "        [-0.01772355,  0.02389681,  0.02023238, ...,  0.00093679,\n",
              "         -0.04009534,  0.00085899],\n",
              "        ...,\n",
              "        [-0.00158024, -0.0269161 ,  0.03138395, ...,  0.00182025,\n",
              "          0.01787114, -0.01686956],\n",
              "        [ 0.00627791,  0.00418887, -0.04338048, ...,  0.00215626,\n",
              "         -0.02184882,  0.02808467],\n",
              "        [ 0.01411266, -0.01205926, -0.03237551, ..., -0.04002778,\n",
              "         -0.04126024,  0.0192685 ]], dtype=float32),\n",
              " array([-5.60558448e-03, -1.28422091e-02, -5.98867051e-03, -2.45035589e-02,\n",
              "        -4.41339193e-03, -5.98834176e-03, -6.00361731e-03, -4.71546175e-03,\n",
              "        -9.95968119e-04, -1.46407774e-03, -6.00175560e-03, -6.61315816e-03,\n",
              "        -8.45730491e-03, -5.69118839e-03, -2.16432586e-02, -4.15715156e-03,\n",
              "        -4.13851719e-03,  6.39446855e-01, -1.21180022e+00, -4.97270143e-03,\n",
              "        -6.46101637e-03,  6.46905333e-04, -6.00261986e-03, -8.29314999e-03,\n",
              "        -3.36701889e-03, -6.00267667e-03, -1.00845462e-02, -5.26007870e-03,\n",
              "        -6.23533409e-03, -6.00116421e-03, -6.86987303e-03, -6.68878667e-03,\n",
              "        -5.99843543e-03, -4.91470890e-03, -4.57511935e-03, -6.00195350e-03,\n",
              "        -6.00317912e-03, -5.03184553e-03, -2.27154442e-03, -3.33695463e-03,\n",
              "        -4.01847949e-03, -6.00283314e-03, -4.00186516e-03, -4.77204751e-03,\n",
              "        -4.44017490e-03, -6.00279076e-03, -6.06082520e-03, -9.49221943e-03,\n",
              "        -4.50696331e-03, -6.55215234e-03, -6.92872051e-03, -6.00031577e-03,\n",
              "        -5.57797635e-03, -6.00189250e-03, -8.24058708e-03, -6.62191818e-03,\n",
              "        -4.28195344e-03, -5.53386984e-03, -4.11718618e-03, -5.99746453e-03,\n",
              "        -7.93271977e-03, -5.10027073e-03, -5.99678652e-03, -3.49351671e-03,\n",
              "        -6.66825334e-03, -6.00445131e-03, -6.00461056e-03, -4.11313633e-03,\n",
              "        -5.99797070e-03,  5.87702310e-03, -3.47230281e-03, -5.08926529e-03,\n",
              "        -6.00241590e-03, -5.46613568e-03, -7.43284728e-03, -3.94876348e-03,\n",
              "        -4.65560332e-03, -5.32746688e-03, -4.61195316e-03, -6.00135326e-03,\n",
              "        -6.87232381e-03, -5.95565559e-03, -6.00023940e-03, -6.00448111e-03,\n",
              "        -5.99913299e-03, -6.00398052e-03, -6.88997470e-03, -3.33228591e-03,\n",
              "        -4.35007270e-03, -5.99934720e-03, -5.97721711e-03, -6.00419054e-03,\n",
              "        -6.00286387e-03, -5.99770527e-03, -5.97919896e-03, -1.04096020e-03,\n",
              "        -6.00424083e-03, -3.96292703e-03, -6.00256026e-03, -5.99276841e-01,\n",
              "        -4.18776134e-03, -5.99797629e-03,  4.40332899e-03,  2.04080388e-01,\n",
              "        -5.99920424e-03, -6.25651795e-03, -7.02868542e-03, -4.04610299e-03,\n",
              "        -1.05441753e-02, -6.00457704e-03, -6.00423664e-03, -6.00330345e-03,\n",
              "        -5.99608896e-03, -6.16630074e-03, -6.00327598e-03, -8.40765517e-03,\n",
              "        -4.96364478e-03, -5.87095460e-03, -5.15470980e-03, -1.52931404e+00,\n",
              "        -6.00320520e-03, -3.56688350e-03, -6.81167003e-03, -6.73000421e-03,\n",
              "        -6.00171275e-03,  1.09366524e+00, -6.77706674e-03, -8.38209782e-03,\n",
              "        -3.51224071e-03,  5.19023556e-03, -3.15710274e-03, -2.56550941e-03,\n",
              "        -5.98606700e-03, -6.00406202e-03, -6.00168668e-03, -7.20684277e-03,\n",
              "        -6.00322615e-03, -4.40562703e-03, -3.84155079e-03, -6.94876537e-03,\n",
              "        -8.87264404e-03, -4.58957208e-03, -5.99216251e-03, -6.00444293e-03,\n",
              "        -5.99750318e-03, -2.84460792e-03, -1.80521477e-02, -4.17933287e-03,\n",
              "        -6.00354327e-03, -5.34277270e-03, -6.00272650e-03, -4.58537461e-03,\n",
              "        -2.20688293e-03, -6.00279542e-03, -6.00454072e-03, -5.12245670e-03,\n",
              "        -5.11136884e-03, -3.84314870e-03, -6.00029062e-03, -4.52372991e-03,\n",
              "        -4.79067024e-03, -5.99374017e-03, -3.89835215e-03, -1.44345313e-02,\n",
              "        -6.00446155e-03, -2.94075510e-03, -7.17724208e-03, -6.00365968e-03,\n",
              "        -6.58165244e-03, -6.74951589e-03, -9.92017519e-03, -7.09157018e-03,\n",
              "        -2.45897542e-03, -6.00285456e-03, -5.78882685e-03, -5.80420392e-03,\n",
              "        -5.45144361e-03, -1.15583181e+00, -6.08580420e-03, -6.22305926e-03,\n",
              "        -6.00308925e-03, -6.00230042e-03, -3.39910807e-03, -4.34157671e-03,\n",
              "        -1.90548867e-03, -5.99971553e-03, -1.19631998e-02, -5.98861044e-03,\n",
              "        -4.66728836e-01, -5.15576825e-03, -2.28362363e-02, -6.00435259e-03,\n",
              "        -9.00812726e-03, -5.33474283e-03, -5.01024211e-03, -5.99961868e-03,\n",
              "        -3.95591557e-03, -5.99922845e-03, -8.09971802e-03, -5.99634880e-03,\n",
              "        -3.85943102e-03, -5.99354925e-03, -5.53374831e-03, -4.88391332e-03,\n",
              "        -3.12934024e-03, -2.41983007e-03, -1.27893960e+00, -6.00406993e-03,\n",
              "         7.40183353e-01, -4.36873036e-03, -7.46438047e-03, -6.00308925e-03,\n",
              "        -5.54925809e-03, -7.12777395e-03, -6.99354988e-03, -5.53892227e-03,\n",
              "        -5.47071872e-03, -6.00467063e-03, -4.57899878e-03, -6.00127876e-03,\n",
              "        -5.59618510e-03, -3.48480605e-03, -3.20763141e-02, -6.00131927e-03,\n",
              "        -4.92168404e-03, -3.05681233e-03,  1.12617302e+00, -6.00291742e-03,\n",
              "        -4.43861866e-03, -6.00253046e-03, -2.15201788e-02, -5.99806802e-03,\n",
              "        -2.96847522e-03, -6.00078609e-03, -5.99953858e-03, -5.99886570e-03,\n",
              "        -3.52989789e-03, -6.23114966e-03, -7.78815104e-03, -5.26638050e-03,\n",
              "        -4.64548776e-03, -3.25529231e-03, -3.59138730e-03, -6.75898418e-03,\n",
              "        -6.03103684e-03, -6.00031065e-03, -3.91137786e-03, -5.99984406e-03,\n",
              "        -8.85952264e-03, -4.08924371e-03, -3.29130050e-03, -5.12708304e-03,\n",
              "        -5.34301624e-03, -6.00427203e-03, -6.71051349e-03, -6.00095419e-03,\n",
              "        -4.14779410e-03, -5.86084789e-03, -5.15569048e-03, -5.83468843e-03,\n",
              "        -6.00378821e-03, -5.99941192e-03, -6.00469857e-03, -6.46756357e-03,\n",
              "        -4.05722298e-03, -6.00373419e-03, -6.96921116e-03, -6.00315863e-03,\n",
              "        -6.75632944e-03, -6.00249274e-03, -3.86772654e-03, -5.99864870e-03,\n",
              "        -1.26576815e-02, -5.99807361e-03, -4.78494121e-03, -2.73503363e-03,\n",
              "        -6.00203592e-03, -5.83456643e-03, -4.36746003e-03, -6.00252999e-03,\n",
              "        -5.99488383e-03, -5.55546628e-03, -5.99797396e-03, -1.03233019e-02,\n",
              "        -3.98818264e-03,  6.56191632e-02, -6.00178214e-03,  1.05499423e+00,\n",
              "        -6.00351207e-03, -4.18954948e-03, -2.83266488e-03, -5.99958468e-03,\n",
              "        -2.88506644e-03, -3.34569556e-03, -6.00461615e-03, -5.99792134e-03,\n",
              "        -6.42062258e-03, -1.56146204e-02, -3.82678956e-03, -6.00257143e-03,\n",
              "        -7.56127946e-03, -6.00404153e-03, -6.00393629e-03, -5.82076004e-03,\n",
              "        -6.00000564e-03,  1.24272797e-03, -6.00351766e-03, -1.00450516e+00,\n",
              "        -5.99974440e-03, -7.79747451e-03, -5.98245254e-03, -2.77326014e-02,\n",
              "        -6.19133143e-03, -6.00348134e-03, -6.00404851e-03, -6.55738125e-03,\n",
              "        -3.96181457e-03, -6.59156442e-01, -6.00319915e-03, -6.28826162e-03,\n",
              "        -3.41265905e-03, -3.76553484e-03, -6.00446807e-03, -4.01437655e-03,\n",
              "        -6.00341288e-03, -5.80980489e-03, -3.63903656e-03, -4.87953005e-03,\n",
              "        -6.00329321e-03, -5.36026899e-03, -7.12366262e-03, -5.99385845e-03,\n",
              "        -6.00297889e-03, -5.44939190e-03, -5.18095307e-03, -5.33881923e-03,\n",
              "        -8.44987947e-03, -7.60095753e-03,  2.97911349e-03, -6.27985597e-03,\n",
              "        -6.00424828e-03, -5.99129219e-03, -4.65662451e-03, -5.97949326e-03,\n",
              "        -3.93804861e-03, -5.99675998e-03, -5.99826127e-03, -6.70694280e-03,\n",
              "        -5.09037403e-03, -3.38163157e-03, -8.23293746e-01,  1.68400073e+00,\n",
              "        -1.09310532e-02, -7.11950520e-03, -6.00326946e-03, -6.00180915e-03,\n",
              "        -5.11169014e-03, -4.44933353e-03, -4.92943265e-03, -6.00410160e-03,\n",
              "        -4.57060197e-03, -2.49619340e-03,  2.45204985e-01, -6.00405177e-03,\n",
              "        -6.00219797e-03, -6.00379566e-03, -6.00432139e-03, -6.00388972e-03,\n",
              "        -1.27741739e-01, -4.12185583e-03, -6.62892917e-03, -5.51796518e-03,\n",
              "        -5.10109076e-03, -5.17468015e-03, -6.00313535e-03, -5.71955368e-03,\n",
              "        -3.48445470e-03, -1.39199384e-02, -2.69739795e-03, -3.36846407e-03,\n",
              "        -6.00350695e-03, -1.60357859e-02, -5.14846249e-03, -4.10165405e-03,\n",
              "        -5.64780971e-03, -3.67642404e-03, -8.31670593e-03, -5.94838057e-03,\n",
              "        -3.64201097e-03, -6.00230088e-03, -5.96632250e-03, -4.55745496e-03,\n",
              "        -3.66311241e-03, -4.77399072e-03, -5.98911475e-03, -6.00297516e-03,\n",
              "        -2.45466619e-03, -5.12242084e-03, -3.98705930e-01,  6.40831530e-01,\n",
              "        -4.67925612e-03, -1.09396223e-03, -5.37515944e-03, -3.00014135e-03,\n",
              "        -8.89607742e-02, -6.00043638e-03, -5.53532038e-03, -6.00132300e-03,\n",
              "        -7.24252686e-03, -6.00348972e-03, -6.00029388e-03, -3.62878293e-03,\n",
              "        -1.90006215e-02, -1.22799817e-02, -5.99226495e-03, -7.06951786e-03,\n",
              "        -4.13814466e-03, -4.49563423e-03, -1.05585214e-02, -5.20870741e-03,\n",
              "        -6.00372395e-03, -2.39377585e-03, -5.00832824e-03, -6.00324152e-03,\n",
              "        -1.89917628e-02, -2.18211650e-03, -6.00318937e-03, -1.54782888e-02,\n",
              "        -7.55129335e-03, -6.00390043e-03, -6.00353582e-03,  2.44709277e+00,\n",
              "        -5.98050701e-03, -6.00213371e-03, -4.96794144e-03, -5.19080786e-03,\n",
              "        -6.00421103e-03, -6.00366713e-03, -1.36640596e+00, -6.00429485e-03,\n",
              "        -5.99579979e-03, -5.94753074e-03, -4.12094593e-01, -4.08495776e-03,\n",
              "        -5.70406066e-03, -4.45965910e-03, -5.98790357e-03, -6.03417493e-03,\n",
              "        -3.80845624e-03, -5.14789578e-03, -6.00282289e-03, -6.25808025e-03,\n",
              "        -6.00450300e-03, -6.23563817e-03, -2.42991168e-02, -7.22583383e-03,\n",
              "        -8.50052014e-03, -6.80648535e-03, -6.00426970e-03, -6.00030134e-03,\n",
              "        -1.10013485e+00, -3.90751893e-03, -3.46161634e-01, -2.99960910e-03,\n",
              "        -6.03070110e-03, -5.85904717e-03, -5.99596789e-03, -5.11460146e-03,\n",
              "        -5.34069678e-03, -3.83346458e-03, -5.60751278e-03, -5.18570608e-03,\n",
              "        -6.00400008e-03, -1.77525189e-02, -5.54272905e-03, -5.54945692e-03,\n",
              "        -6.47887168e-03, -6.47763489e-03, -5.97345689e-03, -4.14486788e-03,\n",
              "        -2.85069807e-03, -6.00365736e-03, -6.00388600e-03, -6.00315770e-03,\n",
              "        -3.50406044e-03, -3.14925238e-02, -5.55242039e-03, -2.14893231e-03,\n",
              "         8.60953033e-01, -3.87136894e-03, -7.26433098e-03, -4.46178205e-03,\n",
              "        -2.95160268e-03, -3.77704506e-03, -4.21701558e-03, -1.10765658e-02,\n",
              "        -4.61640954e-03, -5.67650283e-03, -8.09790846e-03, -7.20980112e-03,\n",
              "        -6.00326573e-03, -6.00480149e-03, -6.00008946e-03, -6.82119094e-03,\n",
              "        -8.40779860e-03, -6.00408344e-03, -5.72394952e-03, -1.21362098e-02,\n",
              "        -2.56104302e-03, -3.59239453e-03, -6.00430230e-03, -5.82139939e-03],\n",
              "       dtype=float32),\n",
              " array([[ 0.03822402,  0.04211709, -0.06235148, ..., -0.101181  ,\n",
              "         -0.01671118,  0.07446276],\n",
              "        [ 0.03295343, -0.03904122,  0.0114575 , ...,  0.02834955,\n",
              "          0.03714829,  0.08668909],\n",
              "        [-0.07683145, -0.1061923 , -0.0654752 , ...,  0.02878044,\n",
              "          0.0669569 ,  0.00510893],\n",
              "        ...,\n",
              "        [-0.10784637, -0.00849595, -0.01492558, ..., -0.03490647,\n",
              "          0.06335397,  0.08291259],\n",
              "        [ 0.07119169, -0.05848001, -0.01543781, ..., -0.08847348,\n",
              "          0.00642555, -0.02676002],\n",
              "        [ 0.05667477,  0.02402174, -0.05478356, ..., -0.08177233,\n",
              "         -0.00535806, -0.00706695]], dtype=float32),\n",
              " array([-1.2949969 , -0.4733671 ,  0.6786512 ,  0.06113276,  1.3886071 ,\n",
              "        -0.74556684,  1.5357897 , -0.1606402 , -0.41850677, -0.6851984 ],\n",
              "       dtype=float32)]"
            ]
          },
          "metadata": {},
          "execution_count": 21
        }
      ]
    },
    {
      "cell_type": "code",
      "source": [
        "#Probability of all values\n",
        "model.predict(x_test)[0]"
      ],
      "metadata": {
        "colab": {
          "base_uri": "https://localhost:8080/"
        },
        "id": "woF4ckld--YI",
        "outputId": "99b646fd-5fb6-4dad-94ae-31f8e6b7d703"
      },
      "execution_count": null,
      "outputs": [
        {
          "output_type": "stream",
          "name": "stdout",
          "text": [
            "313/313 [==============================] - 2s 5ms/step\n"
          ]
        },
        {
          "output_type": "execute_result",
          "data": {
            "text/plain": [
              "array([0.04723116, 0.01289716, 0.08497813, 0.16482456, 0.10728871,\n",
              "       0.1262852 , 0.1288767 , 0.00328828, 0.32302096, 0.00130918],\n",
              "      dtype=float32)"
            ]
          },
          "metadata": {},
          "execution_count": 22
        }
      ]
    },
    {
      "cell_type": "code",
      "source": [
        "import numpy as np\n",
        "import pandas as pd"
      ],
      "metadata": {
        "id": "4mV0_zK1--WK"
      },
      "execution_count": null,
      "outputs": []
    },
    {
      "cell_type": "code",
      "source": [
        "y_pred = np.argmax(model.predict(x_test), axis = 1)\n",
        "y_pred"
      ],
      "metadata": {
        "colab": {
          "base_uri": "https://localhost:8080/"
        },
        "id": "iAsE_Cgc--S2",
        "outputId": "32aeb173-4a58-4822-a7de-0bf49929ebcb"
      },
      "execution_count": null,
      "outputs": [
        {
          "output_type": "stream",
          "name": "stdout",
          "text": [
            "313/313 [==============================] - 2s 5ms/step\n"
          ]
        },
        {
          "output_type": "execute_result",
          "data": {
            "text/plain": [
              "array([8, 9, 0, ..., 3, 6, 7])"
            ]
          },
          "metadata": {},
          "execution_count": 24
        }
      ]
    },
    {
      "cell_type": "code",
      "source": [
        "y_test"
      ],
      "metadata": {
        "colab": {
          "base_uri": "https://localhost:8080/"
        },
        "id": "1E4V2Lkj--Pj",
        "outputId": "bbbc9bd9-9bcf-4b0e-f4a4-2e1f7c18657b"
      },
      "execution_count": null,
      "outputs": [
        {
          "output_type": "execute_result",
          "data": {
            "text/plain": [
              "array([[3],\n",
              "       [8],\n",
              "       [8],\n",
              "       ...,\n",
              "       [5],\n",
              "       [1],\n",
              "       [7]], dtype=uint8)"
            ]
          },
          "metadata": {},
          "execution_count": 25
        }
      ]
    },
    {
      "cell_type": "code",
      "source": [
        "from sklearn.metrics import accuracy_score\n",
        "from sklearn.metrics import confusion_matrix"
      ],
      "metadata": {
        "id": "uXC1PDpF--Mv"
      },
      "execution_count": null,
      "outputs": []
    },
    {
      "cell_type": "code",
      "source": [
        "accuracy_score(y_test,y_pred)"
      ],
      "metadata": {
        "colab": {
          "base_uri": "https://localhost:8080/"
        },
        "id": "oA8x4D-H--KI",
        "outputId": "d0332691-ab30-4081-eb43-be08f07f5542"
      },
      "execution_count": null,
      "outputs": [
        {
          "output_type": "execute_result",
          "data": {
            "text/plain": [
              "0.4702"
            ]
          },
          "metadata": {},
          "execution_count": 27
        }
      ]
    },
    {
      "cell_type": "code",
      "source": [
        "confusion_matrix(y_test,y_pred)"
      ],
      "metadata": {
        "colab": {
          "base_uri": "https://localhost:8080/"
        },
        "id": "cDIIfKKh--Gx",
        "outputId": "96c604db-4b93-4a08-d674-c67591524709"
      },
      "execution_count": null,
      "outputs": [
        {
          "output_type": "execute_result",
          "data": {
            "text/plain": [
              "array([[581,  54,  37,   6,  19,  30,  26,  41, 137,  69],\n",
              "       [ 49, 637,   5,  15,  10,  14,  19,  24,  48, 179],\n",
              "       [ 93,  54, 217,  65, 132,  90, 165, 116,  33,  35],\n",
              "       [ 39,  47,  49, 225,  43, 251, 173,  79,  28,  66],\n",
              "       [ 64,  32,  68,  30, 326,  67, 201, 154,  37,  21],\n",
              "       [ 34,  29,  58, 156,  40, 381, 119, 104,  40,  39],\n",
              "       [ 16,  29,  37,  54,  74,  60, 641,  43,  17,  29],\n",
              "       [ 50,  49,  48,  46,  51,  71,  43, 544,  16,  82],\n",
              "       [151,  97,   8,  15,  14,  30,  16,  14, 594,  61],\n",
              "       [ 46, 226,   5,  15,   7,  20,  22,  45,  58, 556]])"
            ]
          },
          "metadata": {},
          "execution_count": 28
        }
      ]
    },
    {
      "cell_type": "code",
      "source": [
        "pd.DataFrame(confusion_matrix(y_test,y_pred))"
      ],
      "metadata": {
        "colab": {
          "base_uri": "https://localhost:8080/",
          "height": 363
        },
        "id": "wLP9MXQQ--Dq",
        "outputId": "3642ab40-84ff-4940-c9f3-d52b6230d606"
      },
      "execution_count": null,
      "outputs": [
        {
          "output_type": "execute_result",
          "data": {
            "text/plain": [
              "     0    1    2    3    4    5    6    7    8    9\n",
              "0  581   54   37    6   19   30   26   41  137   69\n",
              "1   49  637    5   15   10   14   19   24   48  179\n",
              "2   93   54  217   65  132   90  165  116   33   35\n",
              "3   39   47   49  225   43  251  173   79   28   66\n",
              "4   64   32   68   30  326   67  201  154   37   21\n",
              "5   34   29   58  156   40  381  119  104   40   39\n",
              "6   16   29   37   54   74   60  641   43   17   29\n",
              "7   50   49   48   46   51   71   43  544   16   82\n",
              "8  151   97    8   15   14   30   16   14  594   61\n",
              "9   46  226    5   15    7   20   22   45   58  556"
            ],
            "text/html": [
              "\n",
              "  <div id=\"df-2866c737-0d2d-43ab-b38b-93a593559ab5\">\n",
              "    <div class=\"colab-df-container\">\n",
              "      <div>\n",
              "<style scoped>\n",
              "    .dataframe tbody tr th:only-of-type {\n",
              "        vertical-align: middle;\n",
              "    }\n",
              "\n",
              "    .dataframe tbody tr th {\n",
              "        vertical-align: top;\n",
              "    }\n",
              "\n",
              "    .dataframe thead th {\n",
              "        text-align: right;\n",
              "    }\n",
              "</style>\n",
              "<table border=\"1\" class=\"dataframe\">\n",
              "  <thead>\n",
              "    <tr style=\"text-align: right;\">\n",
              "      <th></th>\n",
              "      <th>0</th>\n",
              "      <th>1</th>\n",
              "      <th>2</th>\n",
              "      <th>3</th>\n",
              "      <th>4</th>\n",
              "      <th>5</th>\n",
              "      <th>6</th>\n",
              "      <th>7</th>\n",
              "      <th>8</th>\n",
              "      <th>9</th>\n",
              "    </tr>\n",
              "  </thead>\n",
              "  <tbody>\n",
              "    <tr>\n",
              "      <th>0</th>\n",
              "      <td>581</td>\n",
              "      <td>54</td>\n",
              "      <td>37</td>\n",
              "      <td>6</td>\n",
              "      <td>19</td>\n",
              "      <td>30</td>\n",
              "      <td>26</td>\n",
              "      <td>41</td>\n",
              "      <td>137</td>\n",
              "      <td>69</td>\n",
              "    </tr>\n",
              "    <tr>\n",
              "      <th>1</th>\n",
              "      <td>49</td>\n",
              "      <td>637</td>\n",
              "      <td>5</td>\n",
              "      <td>15</td>\n",
              "      <td>10</td>\n",
              "      <td>14</td>\n",
              "      <td>19</td>\n",
              "      <td>24</td>\n",
              "      <td>48</td>\n",
              "      <td>179</td>\n",
              "    </tr>\n",
              "    <tr>\n",
              "      <th>2</th>\n",
              "      <td>93</td>\n",
              "      <td>54</td>\n",
              "      <td>217</td>\n",
              "      <td>65</td>\n",
              "      <td>132</td>\n",
              "      <td>90</td>\n",
              "      <td>165</td>\n",
              "      <td>116</td>\n",
              "      <td>33</td>\n",
              "      <td>35</td>\n",
              "    </tr>\n",
              "    <tr>\n",
              "      <th>3</th>\n",
              "      <td>39</td>\n",
              "      <td>47</td>\n",
              "      <td>49</td>\n",
              "      <td>225</td>\n",
              "      <td>43</td>\n",
              "      <td>251</td>\n",
              "      <td>173</td>\n",
              "      <td>79</td>\n",
              "      <td>28</td>\n",
              "      <td>66</td>\n",
              "    </tr>\n",
              "    <tr>\n",
              "      <th>4</th>\n",
              "      <td>64</td>\n",
              "      <td>32</td>\n",
              "      <td>68</td>\n",
              "      <td>30</td>\n",
              "      <td>326</td>\n",
              "      <td>67</td>\n",
              "      <td>201</td>\n",
              "      <td>154</td>\n",
              "      <td>37</td>\n",
              "      <td>21</td>\n",
              "    </tr>\n",
              "    <tr>\n",
              "      <th>5</th>\n",
              "      <td>34</td>\n",
              "      <td>29</td>\n",
              "      <td>58</td>\n",
              "      <td>156</td>\n",
              "      <td>40</td>\n",
              "      <td>381</td>\n",
              "      <td>119</td>\n",
              "      <td>104</td>\n",
              "      <td>40</td>\n",
              "      <td>39</td>\n",
              "    </tr>\n",
              "    <tr>\n",
              "      <th>6</th>\n",
              "      <td>16</td>\n",
              "      <td>29</td>\n",
              "      <td>37</td>\n",
              "      <td>54</td>\n",
              "      <td>74</td>\n",
              "      <td>60</td>\n",
              "      <td>641</td>\n",
              "      <td>43</td>\n",
              "      <td>17</td>\n",
              "      <td>29</td>\n",
              "    </tr>\n",
              "    <tr>\n",
              "      <th>7</th>\n",
              "      <td>50</td>\n",
              "      <td>49</td>\n",
              "      <td>48</td>\n",
              "      <td>46</td>\n",
              "      <td>51</td>\n",
              "      <td>71</td>\n",
              "      <td>43</td>\n",
              "      <td>544</td>\n",
              "      <td>16</td>\n",
              "      <td>82</td>\n",
              "    </tr>\n",
              "    <tr>\n",
              "      <th>8</th>\n",
              "      <td>151</td>\n",
              "      <td>97</td>\n",
              "      <td>8</td>\n",
              "      <td>15</td>\n",
              "      <td>14</td>\n",
              "      <td>30</td>\n",
              "      <td>16</td>\n",
              "      <td>14</td>\n",
              "      <td>594</td>\n",
              "      <td>61</td>\n",
              "    </tr>\n",
              "    <tr>\n",
              "      <th>9</th>\n",
              "      <td>46</td>\n",
              "      <td>226</td>\n",
              "      <td>5</td>\n",
              "      <td>15</td>\n",
              "      <td>7</td>\n",
              "      <td>20</td>\n",
              "      <td>22</td>\n",
              "      <td>45</td>\n",
              "      <td>58</td>\n",
              "      <td>556</td>\n",
              "    </tr>\n",
              "  </tbody>\n",
              "</table>\n",
              "</div>\n",
              "      <button class=\"colab-df-convert\" onclick=\"convertToInteractive('df-2866c737-0d2d-43ab-b38b-93a593559ab5')\"\n",
              "              title=\"Convert this dataframe to an interactive table.\"\n",
              "              style=\"display:none;\">\n",
              "        \n",
              "  <svg xmlns=\"http://www.w3.org/2000/svg\" height=\"24px\"viewBox=\"0 0 24 24\"\n",
              "       width=\"24px\">\n",
              "    <path d=\"M0 0h24v24H0V0z\" fill=\"none\"/>\n",
              "    <path d=\"M18.56 5.44l.94 2.06.94-2.06 2.06-.94-2.06-.94-.94-2.06-.94 2.06-2.06.94zm-11 1L8.5 8.5l.94-2.06 2.06-.94-2.06-.94L8.5 2.5l-.94 2.06-2.06.94zm10 10l.94 2.06.94-2.06 2.06-.94-2.06-.94-.94-2.06-.94 2.06-2.06.94z\"/><path d=\"M17.41 7.96l-1.37-1.37c-.4-.4-.92-.59-1.43-.59-.52 0-1.04.2-1.43.59L10.3 9.45l-7.72 7.72c-.78.78-.78 2.05 0 2.83L4 21.41c.39.39.9.59 1.41.59.51 0 1.02-.2 1.41-.59l7.78-7.78 2.81-2.81c.8-.78.8-2.07 0-2.86zM5.41 20L4 18.59l7.72-7.72 1.47 1.35L5.41 20z\"/>\n",
              "  </svg>\n",
              "      </button>\n",
              "      \n",
              "  <style>\n",
              "    .colab-df-container {\n",
              "      display:flex;\n",
              "      flex-wrap:wrap;\n",
              "      gap: 12px;\n",
              "    }\n",
              "\n",
              "    .colab-df-convert {\n",
              "      background-color: #E8F0FE;\n",
              "      border: none;\n",
              "      border-radius: 50%;\n",
              "      cursor: pointer;\n",
              "      display: none;\n",
              "      fill: #1967D2;\n",
              "      height: 32px;\n",
              "      padding: 0 0 0 0;\n",
              "      width: 32px;\n",
              "    }\n",
              "\n",
              "    .colab-df-convert:hover {\n",
              "      background-color: #E2EBFA;\n",
              "      box-shadow: 0px 1px 2px rgba(60, 64, 67, 0.3), 0px 1px 3px 1px rgba(60, 64, 67, 0.15);\n",
              "      fill: #174EA6;\n",
              "    }\n",
              "\n",
              "    [theme=dark] .colab-df-convert {\n",
              "      background-color: #3B4455;\n",
              "      fill: #D2E3FC;\n",
              "    }\n",
              "\n",
              "    [theme=dark] .colab-df-convert:hover {\n",
              "      background-color: #434B5C;\n",
              "      box-shadow: 0px 1px 3px 1px rgba(0, 0, 0, 0.15);\n",
              "      filter: drop-shadow(0px 1px 2px rgba(0, 0, 0, 0.3));\n",
              "      fill: #FFFFFF;\n",
              "    }\n",
              "  </style>\n",
              "\n",
              "      <script>\n",
              "        const buttonEl =\n",
              "          document.querySelector('#df-2866c737-0d2d-43ab-b38b-93a593559ab5 button.colab-df-convert');\n",
              "        buttonEl.style.display =\n",
              "          google.colab.kernel.accessAllowed ? 'block' : 'none';\n",
              "\n",
              "        async function convertToInteractive(key) {\n",
              "          const element = document.querySelector('#df-2866c737-0d2d-43ab-b38b-93a593559ab5');\n",
              "          const dataTable =\n",
              "            await google.colab.kernel.invokeFunction('convertToInteractive',\n",
              "                                                     [key], {});\n",
              "          if (!dataTable) return;\n",
              "\n",
              "          const docLinkHtml = 'Like what you see? Visit the ' +\n",
              "            '<a target=\"_blank\" href=https://colab.research.google.com/notebooks/data_table.ipynb>data table notebook</a>'\n",
              "            + ' to learn more about interactive tables.';\n",
              "          element.innerHTML = '';\n",
              "          dataTable['output_type'] = 'display_data';\n",
              "          await google.colab.output.renderOutput(dataTable, element);\n",
              "          const docLink = document.createElement('div');\n",
              "          docLink.innerHTML = docLinkHtml;\n",
              "          element.appendChild(docLink);\n",
              "        }\n",
              "      </script>\n",
              "    </div>\n",
              "  </div>\n",
              "  "
            ]
          },
          "metadata": {},
          "execution_count": 29
        }
      ]
    },
    {
      "cell_type": "code",
      "source": [
        "#correct values are present in the diagonal\n",
        "#rest all are incorrect"
      ],
      "metadata": {
        "id": "oTwcN1EZ--Az"
      },
      "execution_count": null,
      "outputs": []
    },
    {
      "cell_type": "code",
      "source": [
        "accuracy_score(y_test,y_pred)"
      ],
      "metadata": {
        "colab": {
          "base_uri": "https://localhost:8080/"
        },
        "id": "6pL0pQWL-998",
        "outputId": "e4211f21-0700-43d8-df72-d7af0b24db37"
      },
      "execution_count": null,
      "outputs": [
        {
          "output_type": "execute_result",
          "data": {
            "text/plain": [
              "0.4702"
            ]
          },
          "metadata": {},
          "execution_count": 31
        }
      ]
    },
    {
      "cell_type": "code",
      "source": [
        "!pip install streamlit==0.83.0 --quiet\n",
        "!pip install streamlit-drawable-canvas --quiet"
      ],
      "metadata": {
        "colab": {
          "base_uri": "https://localhost:8080/"
        },
        "id": "RtTzgwRw-97D",
        "outputId": "a17f92db-b26a-434e-e73d-c3fffc4c593c"
      },
      "execution_count": null,
      "outputs": [
        {
          "output_type": "stream",
          "name": "stdout",
          "text": [
            "\u001b[2K     \u001b[90m━━━━━━━━━━━━━━━━━━━━━━━━━━━━━━━━━━━━━━━━\u001b[0m \u001b[32m7.7/7.7 MB\u001b[0m \u001b[31m13.9 MB/s\u001b[0m eta \u001b[36m0:00:00\u001b[0m\n",
            "\u001b[2K     \u001b[90m━━━━━━━━━━━━━━━━━━━━━━━━━━━━━━━━━━━━━━\u001b[0m \u001b[32m184.0/184.0 KB\u001b[0m \u001b[31m16.7 MB/s\u001b[0m eta \u001b[36m0:00:00\u001b[0m\n",
            "\u001b[?25h  Preparing metadata (setup.py) ... \u001b[?25l\u001b[?25hdone\n",
            "\u001b[2K     \u001b[90m━━━━━━━━━━━━━━━━━━━━━━━━━━━━━━━━━━━━━━━━\u001b[0m \u001b[32m79.0/79.0 KB\u001b[0m \u001b[31m8.3 MB/s\u001b[0m eta \u001b[36m0:00:00\u001b[0m\n",
            "\u001b[2K     \u001b[90m━━━━━━━━━━━━━━━━━━━━━━━━━━━━━━━━━━━━━━━━\u001b[0m \u001b[32m4.7/4.7 MB\u001b[0m \u001b[31m84.8 MB/s\u001b[0m eta \u001b[36m0:00:00\u001b[0m\n",
            "\u001b[2K     \u001b[90m━━━━━━━━━━━━━━━━━━━━━━━━━━━━━━━━━━━━━━━━\u001b[0m \u001b[32m62.7/62.7 KB\u001b[0m \u001b[31m6.6 MB/s\u001b[0m eta \u001b[36m0:00:00\u001b[0m\n",
            "\u001b[?25h  Building wheel for validators (setup.py) ... \u001b[?25l\u001b[?25hdone\n",
            "\u001b[2K     \u001b[90m━━━━━━━━━━━━━━━━━━━━━━━━━━━━━━━━━━━━━━━━\u001b[0m \u001b[32m1.2/1.2 MB\u001b[0m \u001b[31m18.6 MB/s\u001b[0m eta \u001b[36m0:00:00\u001b[0m\n",
            "\u001b[?25h"
          ]
        }
      ]
    },
    {
      "cell_type": "code",
      "source": [
        "model.save('model_digit.hdf5')"
      ],
      "metadata": {
        "id": "zpF3R2_x-94L"
      },
      "execution_count": null,
      "outputs": []
    },
    {
      "cell_type": "code",
      "source": [
        "%%writefile app.py\n",
        "import streamlit as st\n",
        "import numpy as np\n",
        "from streamlit_drawable_canvas import st_canvas\n",
        "from tensorflow import keras\n",
        "import cv2\n",
        "\n",
        "model=keras.models.load_model('model_digit.hdf5',compile=False)\n",
        "\n",
        "st.title(\"CIFAR10 Image Classification using ANN\")\n",
        "st.subheader(\"Draw the image in the below given space and click on PREDICT\")\n",
        "col1,col2=st.beta_columns(2)\n",
        "\n",
        "with col1:\n",
        "  st.write(\"Original Image\")\n",
        "  canvas_result=st_canvas(fill_color='#000000',stroke_width=20,stroke_color='#32cf1d',\n",
        "  background_color='#000000',width=225,height=225,drawing_mode='freedraw')\n",
        "\n",
        "with col2:\n",
        "  if canvas_result.image_data is not None:\n",
        "    img=cv2.resize(canvas_result.image_data.astype('uint8'),(28,28))\n",
        "    rescaled=cv2.resize(img,(225,225))\n",
        "    st.write(\"Rescaled Image\")\n",
        "    st.image(rescaled)\n",
        "\n",
        "\n",
        "if st.button(\"PREDICT\"):\n",
        "  test_x=cv2.cvtColor(img,cv2.COLOR_BGR2GRAY)\n",
        "  test_x=np.expand_dims(test_x,axis=0)\n",
        "  val=model.predict(test_x)\n",
        "  st.title(f'Result:{np.argmax(val[0])}')\n",
        "  st.bar_chart(val[0])"
      ],
      "metadata": {
        "colab": {
          "base_uri": "https://localhost:8080/"
        },
        "id": "cwHnVnN9EOH6",
        "outputId": "12412ea0-3fda-42d6-8a1f-242f36a8492a"
      },
      "execution_count": null,
      "outputs": [
        {
          "output_type": "stream",
          "name": "stdout",
          "text": [
            "Overwriting app.py\n"
          ]
        }
      ]
    },
    {
      "cell_type": "code",
      "source": [
        "#The classes are:\n",
        "\n",
        "#Label\tDescription\n",
        "#0\tairplane\n",
        "#1\tautomobile\n",
        "#2\tbird\n",
        "#3\tcat\n",
        "#4\tdeer\n",
        "#5\tdog\n",
        "#6\tfrog\n",
        "#7\thorse\n",
        "#8\tship\n",
        "#9\ttruck"
      ],
      "metadata": {
        "id": "rBLmDoq5-9y_"
      },
      "execution_count": null,
      "outputs": []
    },
    {
      "cell_type": "code",
      "source": [
        "!streamlit run app.py & npx localtunnel --port 8501"
      ],
      "metadata": {
        "colab": {
          "base_uri": "https://localhost:8080/"
        },
        "id": "ql3iSyr5BK7V",
        "outputId": "24703340-a992-4b27-9473-8055bae2ec71"
      },
      "execution_count": null,
      "outputs": [
        {
          "output_type": "stream",
          "name": "stdout",
          "text": [
            "2023-01-31 13:44:19.213 INFO    numexpr.utils: NumExpr defaulting to 2 threads.\n",
            "\u001b[0m\n",
            "\u001b[34m\u001b[1m  You can now view your Streamlit app in your browser.\u001b[0m\n",
            "\u001b[0m\n",
            "\u001b[34m  Network URL: \u001b[0m\u001b[1mhttp://172.28.0.12:8501\u001b[0m\n",
            "\u001b[34m  External URL: \u001b[0m\u001b[1mhttp://34.73.53.18:8501\u001b[0m\n",
            "\u001b[0m\n",
            "\u001b[K\u001b[?25hnpx: installed 22 in 2.853s\n",
            "your url is: https://brave-eyes-roll-34-73-53-18.loca.lt\n",
            "2023-01-31 13:44:23.341601: E tensorflow/stream_executor/cuda/cuda_driver.cc:271] failed call to cuInit: CUDA_ERROR_NO_DEVICE: no CUDA-capable device is detected\n",
            "\u001b[34m  Stopping...\u001b[0m\n",
            "^C\n"
          ]
        }
      ]
    }
  ]
}