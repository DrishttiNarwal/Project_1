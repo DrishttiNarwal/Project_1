{
  "nbformat": 4,
  "nbformat_minor": 0,
  "metadata": {
    "colab": {
      "provenance": [],
      "authorship_tag": "ABX9TyNqYgOzkWlPwpZK5pSy+hVE",
      "include_colab_link": true
    },
    "kernelspec": {
      "name": "python3",
      "display_name": "Python 3"
    },
    "language_info": {
      "name": "python"
    }
  },
  "cells": [
    {
      "cell_type": "markdown",
      "metadata": {
        "id": "view-in-github",
        "colab_type": "text"
      },
      "source": [
        "<a href=\"https://colab.research.google.com/github/DrishttiNarwal/Project_1/blob/main/Drishtti_Narwal_Project1_MNIST_ANN.ipynb\" target=\"_parent\"><img src=\"https://colab.research.google.com/assets/colab-badge.svg\" alt=\"Open In Colab\"/></a>"
      ]
    },
    {
      "cell_type": "code",
      "execution_count": null,
      "metadata": {
        "id": "km70OWRQvpSL"
      },
      "outputs": [],
      "source": [
        "#Project 1:\n",
        "#Build an ANN and a CNN Model on Fashion MNIST dataset using Keras Sequential API\n",
        "#Dataset:\n",
        "#https://keras.io/api/datasets/fashion_mnist/"
      ]
    },
    {
      "cell_type": "code",
      "source": [
        "#MNIST Database - The MNIST database (Modified National Institute of Standards and Technology database) is a\n",
        "#                 large database of handwritten digits that is commonly used for training various image processing systems.\n",
        "#                 The database is also widely used for training and testing in the field of machine learning."
      ],
      "metadata": {
        "id": "Vze1UBOtv3R9"
      },
      "execution_count": null,
      "outputs": []
    },
    {
      "cell_type": "code",
      "source": [
        "#importing keras from tensorflow\n",
        "from tensorflow import keras"
      ],
      "metadata": {
        "id": "B7nz87lmv3OF"
      },
      "execution_count": null,
      "outputs": []
    },
    {
      "cell_type": "code",
      "source": [
        "#downloading files and images\n",
        "(x_train,y_train),(x_test, y_test) = keras.datasets.fashion_mnist.load_data()"
      ],
      "metadata": {
        "colab": {
          "base_uri": "https://localhost:8080/"
        },
        "id": "Qx4xsYYGv3Kf",
        "outputId": "dd87db3f-fdce-4fdd-e4fb-111c35826ba2"
      },
      "execution_count": null,
      "outputs": [
        {
          "output_type": "stream",
          "name": "stdout",
          "text": [
            "Downloading data from https://storage.googleapis.com/tensorflow/tf-keras-datasets/train-labels-idx1-ubyte.gz\n",
            "29515/29515 [==============================] - 0s 0us/step\n",
            "Downloading data from https://storage.googleapis.com/tensorflow/tf-keras-datasets/train-images-idx3-ubyte.gz\n",
            "26421880/26421880 [==============================] - 0s 0us/step\n",
            "Downloading data from https://storage.googleapis.com/tensorflow/tf-keras-datasets/t10k-labels-idx1-ubyte.gz\n",
            "5148/5148 [==============================] - 0s 0us/step\n",
            "Downloading data from https://storage.googleapis.com/tensorflow/tf-keras-datasets/t10k-images-idx3-ubyte.gz\n",
            "4422102/4422102 [==============================] - 0s 0us/step\n"
          ]
        }
      ]
    },
    {
      "cell_type": "code",
      "source": [
        "print(x_train.shape)\n",
        "print(x_test.shape)\n",
        "print(y_train.shape)\n",
        "print(y_test.shape)"
      ],
      "metadata": {
        "colab": {
          "base_uri": "https://localhost:8080/"
        },
        "id": "caZ4FyLJv3Gs",
        "outputId": "708d1e2e-7988-4944-9844-c450cc83ff7e"
      },
      "execution_count": null,
      "outputs": [
        {
          "output_type": "stream",
          "name": "stdout",
          "text": [
            "(60000, 28, 28)\n",
            "(10000, 28, 28)\n",
            "(60000,)\n",
            "(10000,)\n"
          ]
        }
      ]
    },
    {
      "cell_type": "code",
      "source": [
        "#Therefore, 60,000 values in train dataset and 10,000 values in test dataset\n",
        "\n",
        "#60,000 values will be used to train the data and once the model is trained, 10,000 values will be used to\n",
        "#predict the answers and check whether the predicted answers are same or not"
      ],
      "metadata": {
        "id": "CgdkQ2ZBv3Ct"
      },
      "execution_count": null,
      "outputs": []
    },
    {
      "cell_type": "code",
      "source": [
        "x_train[0].shape"
      ],
      "metadata": {
        "colab": {
          "base_uri": "https://localhost:8080/"
        },
        "id": "pTGoNh0Zv2-0",
        "outputId": "5f9d0fb7-e732-41d9-fb96-63b0d176249f"
      },
      "execution_count": null,
      "outputs": [
        {
          "output_type": "execute_result",
          "data": {
            "text/plain": [
              "(28, 28)"
            ]
          },
          "metadata": {},
          "execution_count": 7
        }
      ]
    },
    {
      "cell_type": "code",
      "source": [
        "#Hence, there are 28 pixels horizontal and 28 pixels vertical"
      ],
      "metadata": {
        "id": "fc_PtRlev27A"
      },
      "execution_count": null,
      "outputs": []
    },
    {
      "cell_type": "code",
      "source": [
        "x_train[0]\n",
        "#28 x 28 values"
      ],
      "metadata": {
        "colab": {
          "base_uri": "https://localhost:8080/"
        },
        "id": "OooPrfEev235",
        "outputId": "634bd24d-ad80-42af-eca4-3a238c414b14"
      },
      "execution_count": null,
      "outputs": [
        {
          "output_type": "execute_result",
          "data": {
            "text/plain": [
              "array([[  0,   0,   0,   0,   0,   0,   0,   0,   0,   0,   0,   0,   0,\n",
              "          0,   0,   0,   0,   0,   0,   0,   0,   0,   0,   0,   0,   0,\n",
              "          0,   0],\n",
              "       [  0,   0,   0,   0,   0,   0,   0,   0,   0,   0,   0,   0,   0,\n",
              "          0,   0,   0,   0,   0,   0,   0,   0,   0,   0,   0,   0,   0,\n",
              "          0,   0],\n",
              "       [  0,   0,   0,   0,   0,   0,   0,   0,   0,   0,   0,   0,   0,\n",
              "          0,   0,   0,   0,   0,   0,   0,   0,   0,   0,   0,   0,   0,\n",
              "          0,   0],\n",
              "       [  0,   0,   0,   0,   0,   0,   0,   0,   0,   0,   0,   0,   1,\n",
              "          0,   0,  13,  73,   0,   0,   1,   4,   0,   0,   0,   0,   1,\n",
              "          1,   0],\n",
              "       [  0,   0,   0,   0,   0,   0,   0,   0,   0,   0,   0,   0,   3,\n",
              "          0,  36, 136, 127,  62,  54,   0,   0,   0,   1,   3,   4,   0,\n",
              "          0,   3],\n",
              "       [  0,   0,   0,   0,   0,   0,   0,   0,   0,   0,   0,   0,   6,\n",
              "          0, 102, 204, 176, 134, 144, 123,  23,   0,   0,   0,   0,  12,\n",
              "         10,   0],\n",
              "       [  0,   0,   0,   0,   0,   0,   0,   0,   0,   0,   0,   0,   0,\n",
              "          0, 155, 236, 207, 178, 107, 156, 161, 109,  64,  23,  77, 130,\n",
              "         72,  15],\n",
              "       [  0,   0,   0,   0,   0,   0,   0,   0,   0,   0,   0,   1,   0,\n",
              "         69, 207, 223, 218, 216, 216, 163, 127, 121, 122, 146, 141,  88,\n",
              "        172,  66],\n",
              "       [  0,   0,   0,   0,   0,   0,   0,   0,   0,   1,   1,   1,   0,\n",
              "        200, 232, 232, 233, 229, 223, 223, 215, 213, 164, 127, 123, 196,\n",
              "        229,   0],\n",
              "       [  0,   0,   0,   0,   0,   0,   0,   0,   0,   0,   0,   0,   0,\n",
              "        183, 225, 216, 223, 228, 235, 227, 224, 222, 224, 221, 223, 245,\n",
              "        173,   0],\n",
              "       [  0,   0,   0,   0,   0,   0,   0,   0,   0,   0,   0,   0,   0,\n",
              "        193, 228, 218, 213, 198, 180, 212, 210, 211, 213, 223, 220, 243,\n",
              "        202,   0],\n",
              "       [  0,   0,   0,   0,   0,   0,   0,   0,   0,   1,   3,   0,  12,\n",
              "        219, 220, 212, 218, 192, 169, 227, 208, 218, 224, 212, 226, 197,\n",
              "        209,  52],\n",
              "       [  0,   0,   0,   0,   0,   0,   0,   0,   0,   0,   6,   0,  99,\n",
              "        244, 222, 220, 218, 203, 198, 221, 215, 213, 222, 220, 245, 119,\n",
              "        167,  56],\n",
              "       [  0,   0,   0,   0,   0,   0,   0,   0,   0,   4,   0,   0,  55,\n",
              "        236, 228, 230, 228, 240, 232, 213, 218, 223, 234, 217, 217, 209,\n",
              "         92,   0],\n",
              "       [  0,   0,   1,   4,   6,   7,   2,   0,   0,   0,   0,   0, 237,\n",
              "        226, 217, 223, 222, 219, 222, 221, 216, 223, 229, 215, 218, 255,\n",
              "         77,   0],\n",
              "       [  0,   3,   0,   0,   0,   0,   0,   0,   0,  62, 145, 204, 228,\n",
              "        207, 213, 221, 218, 208, 211, 218, 224, 223, 219, 215, 224, 244,\n",
              "        159,   0],\n",
              "       [  0,   0,   0,   0,  18,  44,  82, 107, 189, 228, 220, 222, 217,\n",
              "        226, 200, 205, 211, 230, 224, 234, 176, 188, 250, 248, 233, 238,\n",
              "        215,   0],\n",
              "       [  0,  57, 187, 208, 224, 221, 224, 208, 204, 214, 208, 209, 200,\n",
              "        159, 245, 193, 206, 223, 255, 255, 221, 234, 221, 211, 220, 232,\n",
              "        246,   0],\n",
              "       [  3, 202, 228, 224, 221, 211, 211, 214, 205, 205, 205, 220, 240,\n",
              "         80, 150, 255, 229, 221, 188, 154, 191, 210, 204, 209, 222, 228,\n",
              "        225,   0],\n",
              "       [ 98, 233, 198, 210, 222, 229, 229, 234, 249, 220, 194, 215, 217,\n",
              "        241,  65,  73, 106, 117, 168, 219, 221, 215, 217, 223, 223, 224,\n",
              "        229,  29],\n",
              "       [ 75, 204, 212, 204, 193, 205, 211, 225, 216, 185, 197, 206, 198,\n",
              "        213, 240, 195, 227, 245, 239, 223, 218, 212, 209, 222, 220, 221,\n",
              "        230,  67],\n",
              "       [ 48, 203, 183, 194, 213, 197, 185, 190, 194, 192, 202, 214, 219,\n",
              "        221, 220, 236, 225, 216, 199, 206, 186, 181, 177, 172, 181, 205,\n",
              "        206, 115],\n",
              "       [  0, 122, 219, 193, 179, 171, 183, 196, 204, 210, 213, 207, 211,\n",
              "        210, 200, 196, 194, 191, 195, 191, 198, 192, 176, 156, 167, 177,\n",
              "        210,  92],\n",
              "       [  0,   0,  74, 189, 212, 191, 175, 172, 175, 181, 185, 188, 189,\n",
              "        188, 193, 198, 204, 209, 210, 210, 211, 188, 188, 194, 192, 216,\n",
              "        170,   0],\n",
              "       [  2,   0,   0,   0,  66, 200, 222, 237, 239, 242, 246, 243, 244,\n",
              "        221, 220, 193, 191, 179, 182, 182, 181, 176, 166, 168,  99,  58,\n",
              "          0,   0],\n",
              "       [  0,   0,   0,   0,   0,   0,   0,  40,  61,  44,  72,  41,  35,\n",
              "          0,   0,   0,   0,   0,   0,   0,   0,   0,   0,   0,   0,   0,\n",
              "          0,   0],\n",
              "       [  0,   0,   0,   0,   0,   0,   0,   0,   0,   0,   0,   0,   0,\n",
              "          0,   0,   0,   0,   0,   0,   0,   0,   0,   0,   0,   0,   0,\n",
              "          0,   0],\n",
              "       [  0,   0,   0,   0,   0,   0,   0,   0,   0,   0,   0,   0,   0,\n",
              "          0,   0,   0,   0,   0,   0,   0,   0,   0,   0,   0,   0,   0,\n",
              "          0,   0]], dtype=uint8)"
            ]
          },
          "metadata": {},
          "execution_count": 9
        }
      ]
    },
    {
      "cell_type": "code",
      "source": [
        "import matplotlib.pyplot as plt\n",
        "i = 1255\n",
        "plt.imshow(x_train[i], cmap = 'gray')\n",
        "plt.show()\n",
        "y_train[i]"
      ],
      "metadata": {
        "colab": {
          "base_uri": "https://localhost:8080/",
          "height": 448
        },
        "id": "iLXR7UP-v2zt",
        "outputId": "395c384a-dc63-4c72-9ee7-c6d712a9eba7"
      },
      "execution_count": null,
      "outputs": [
        {
          "output_type": "display_data",
          "data": {
            "text/plain": [
              "<Figure size 640x480 with 1 Axes>"
            ],
            "image/png": "[encoded data removed]"
          },
          "metadata": {}
        },
        {
          "output_type": "execute_result",
          "data": {
            "text/plain": [
              "9"
            ]
          },
          "metadata": {},
          "execution_count": 10
        }
      ]
    },
    {
      "cell_type": "code",
      "source": [
        "import matplotlib.pyplot as plt\n",
        "i = 564\n",
        "plt.imshow(x_train[i], cmap = 'gray')\n",
        "plt.show()\n",
        "y_train[i]"
      ],
      "metadata": {
        "colab": {
          "base_uri": "https://localhost:8080/",
          "height": 448
        },
        "id": "fjxloEoRv2v3",
        "outputId": "a01d07e8-5a4f-4bd7-b82c-9a3bb7fdc161"
      },
      "execution_count": null,
      "outputs": [
        {
          "output_type": "display_data",
          "data": {
            "text/plain": [
              "<Figure size 640x480 with 1 Axes>"
            ],
            "image/png": "[encoded data removed]"
          },
          "metadata": {}
        },
        {
          "output_type": "execute_result",
          "data": {
            "text/plain": [
              "0"
            ]
          },
          "metadata": {},
          "execution_count": 11
        }
      ]
    },
    {
      "cell_type": "code",
      "source": [
        "import matplotlib.pyplot as plt\n",
        "i = 1764\n",
        "plt.imshow(x_train[i], cmap = 'gray')\n",
        "plt.show()\n",
        "y_train[i]"
      ],
      "metadata": {
        "colab": {
          "base_uri": "https://localhost:8080/",
          "height": 448
        },
        "id": "xTcItyy4v2ql",
        "outputId": "5f418880-dd5b-40e7-a161-762cae77f140"
      },
      "execution_count": null,
      "outputs": [
        {
          "output_type": "display_data",
          "data": {
            "text/plain": [
              "<Figure size 640x480 with 1 Axes>"
            ],
            "image/png": "[encoded data removed]"
          },
          "metadata": {}
        },
        {
          "output_type": "execute_result",
          "data": {
            "text/plain": [
              "3"
            ]
          },
          "metadata": {},
          "execution_count": 12
        }
      ]
    },
    {
      "cell_type": "code",
      "source": [
        "x_train[i]"
      ],
      "metadata": {
        "colab": {
          "base_uri": "https://localhost:8080/"
        },
        "id": "QN4aeu13v2lx",
        "outputId": "38f6ba1c-fbae-430a-c21d-226cc8b70f59"
      },
      "execution_count": null,
      "outputs": [
        {
          "output_type": "execute_result",
          "data": {
            "text/plain": [
              "array([[  0,   0,   0,   0,   0,   0,   0,   0,   0,  26,  90,   0,   0,\n",
              "          0,   0,   0,   0,  71,  20,   0,   0,   1,   0,   0,   0,   0,\n",
              "          0,   0],\n",
              "       [  0,   0,   0,   0,   0,   2,   0,   0, 196, 208, 166, 243, 187,\n",
              "        136, 138, 160, 230, 167, 194, 188,   0,   0,   2,   0,   0,   0,\n",
              "          0,   0],\n",
              "       [  0,   0,   0,   0,   0,   1,   0, 145, 231, 206, 186, 160, 214,\n",
              "        240, 235, 190, 161, 182, 207, 231, 152,   0,   0,   0,   0,   0,\n",
              "          0,   0],\n",
              "       [  0,   0,   0,   0,   0,   0,   0, 189, 214, 206, 209, 197, 148,\n",
              "        134, 138, 161, 199, 206, 204, 210, 188,   0,   0,   0,   0,   0,\n",
              "          0,   0],\n",
              "       [  0,   0,   0,   0,   0,   0,   2, 214, 215, 209, 200, 205, 216,\n",
              "        217, 215, 212, 206, 195, 208, 213, 209,   2,   0,   0,   0,   0,\n",
              "          0,   0],\n",
              "       [  0,   0,   0,   0,   0,   0,  46, 227, 215, 213, 195, 202, 197,\n",
              "        201, 200, 200, 203, 193, 215, 214, 223,  45,   0,   0,   0,   0,\n",
              "          0,   0],\n",
              "       [  0,   0,   0,   0,   0,   0,  82, 234, 214, 238, 207, 208, 204,\n",
              "        207, 206, 208, 208, 200, 235, 214, 229,  88,   0,   0,   0,   0,\n",
              "          0,   0],\n",
              "       [  0,   0,   0,   0,   0,   0, 115, 235, 220, 178, 214, 212, 208,\n",
              "        208, 207, 209, 210, 213, 220, 218, 232, 137,   0,   0,   0,   0,\n",
              "          0,   0],\n",
              "       [  0,   0,   0,   0,   0,   0, 168, 235, 221, 136, 219, 207, 207,\n",
              "        209, 207, 209, 209, 215, 119, 227, 228, 184,   0,   0,   0,   0,\n",
              "          0,   0],\n",
              "       [  0,   0,   0,   0,   0,   0, 200, 233, 223, 149, 224, 209, 209,\n",
              "        210, 210, 210, 209, 231,  86, 246, 228, 221,   0,   0,   0,   0,\n",
              "          0,   0],\n",
              "       [  0,   0,   0,   0,   0,   0, 200, 236, 228, 100, 238, 207, 210,\n",
              "        210, 210, 210, 205, 243,  73, 224, 231, 209,   0,   0,   0,   0,\n",
              "          0,   0],\n",
              "       [  0,   0,   0,   0,   0,   0, 216, 240, 190,  42, 246, 202, 211,\n",
              "        210, 210, 211, 205, 245,  23, 192, 237, 218,  30,   0,   0,   0,\n",
              "          0,   0],\n",
              "       [  0,   0,   0,   0,   0,  30, 224, 246, 161,  81, 247, 201, 212,\n",
              "        211, 210, 210, 202, 246,  37, 173, 240, 221,  77,   0,   0,   0,\n",
              "          0,   0],\n",
              "       [  0,   0,   0,   0,   0,  92, 227, 255, 100, 142, 242, 204, 213,\n",
              "        211, 211, 210, 204, 242, 109, 109, 244, 223, 111,   0,   0,   0,\n",
              "          0,   0],\n",
              "       [  0,   0,   0,   0,   0, 155, 220, 249,  86, 195, 224, 209, 213,\n",
              "        212, 211, 211, 209, 229, 171,  80, 252, 218, 137,   0,   0,   0,\n",
              "          0,   0],\n",
              "       [  0,   0,   0,   0,   0, 209, 242, 240,  88, 235, 211, 211, 215,\n",
              "        213, 213, 212, 208, 214, 220,  63, 243, 233, 201,   0,   0,   0,\n",
              "          0,   0],\n",
              "       [  0,   0,   0,   0,   0,  47, 153, 181, 126, 245, 206, 212, 217,\n",
              "        213, 215, 212, 211, 207, 238,  88, 245, 206, 125,   0,   0,   0,\n",
              "          0,   0],\n",
              "       [  0,   0,   0,   0,   0,   0,   0,   0, 186, 220, 205, 214, 217,\n",
              "        213, 214, 211, 212, 210, 240, 152,   0,   0,   0,   0,   0,   0,\n",
              "          0,   0],\n",
              "       [  0,   0,   0,   0,   0,   4,   0,   0, 228, 216, 209, 215, 218,\n",
              "        214, 215, 212, 211, 209, 217, 215,   0,   0,   0,   0,   0,   0,\n",
              "          0,   0],\n",
              "       [  0,   0,   0,   0,   0,   1,   0,   0, 238, 215, 210, 217, 219,\n",
              "        216, 217, 213, 213, 211, 211, 237,   0,   0,   1,   0,   0,   0,\n",
              "          0,   0],\n",
              "       [  0,   0,   0,   0,   0,   3,   0,   0, 211, 214, 209, 217, 218,\n",
              "        215, 216, 212, 214, 215, 207, 212,  24,   0,   2,   0,   0,   0,\n",
              "          0,   0],\n",
              "       [  0,   0,   0,   0,   0,   4,   0,   6, 217, 211, 209, 218, 218,\n",
              "        215, 216, 213, 213, 215, 205, 219,  51,   0,   3,   0,   0,   0,\n",
              "          0,   0],\n",
              "       [  0,   0,   0,   0,   0,   2,   0,  21, 224, 211, 211, 220, 218,\n",
              "        215, 218, 214, 213, 216, 203, 222,  79,   0,   3,   0,   0,   0,\n",
              "          0,   0],\n",
              "       [  0,   0,   0,   0,   0,   2,   0,  34, 229, 210, 211, 219, 218,\n",
              "        215, 218, 214, 213, 216, 203, 221, 123,   0,   1,   0,   0,   0,\n",
              "          0,   0],\n",
              "       [  0,   0,   0,   0,   0,   3,   0,  53, 235, 209, 211, 219, 219,\n",
              "        215, 218, 214, 213, 216, 203, 219, 157,   0,   0,   0,   0,   0,\n",
              "          0,   0],\n",
              "       [  0,   0,   0,   0,   0,   1,   0,  88, 237, 210, 209, 214, 218,\n",
              "        216, 218, 214, 211, 216, 203, 217, 176,   0,   1,   0,   0,   0,\n",
              "          0,   0],\n",
              "       [  0,   0,   0,   0,   0,   2,   0, 163, 245, 220, 234, 237, 234,\n",
              "        223, 224, 219, 213, 225, 213, 223, 241,   0,   0,   0,   0,   0,\n",
              "          0,   0],\n",
              "       [  0,   0,   0,   0,   0,   0,   0,  89, 185, 155, 166, 168, 192,\n",
              "        205, 210, 217, 201, 197, 177, 166, 104,   0,   0,   0,   0,   0,\n",
              "          0,   0]], dtype=uint8)"
            ]
          },
          "metadata": {},
          "execution_count": 13
        }
      ]
    },
    {
      "cell_type": "code",
      "source": [
        "#normalising data\n",
        "x_train = x_train/255\n",
        "x_test = x_test/255"
      ],
      "metadata": {
        "id": "6i9hI9ubwhkw"
      },
      "execution_count": null,
      "outputs": []
    },
    {
      "cell_type": "code",
      "source": [
        "x_train[i]"
      ],
      "metadata": {
        "colab": {
          "base_uri": "https://localhost:8080/"
        },
        "id": "fAkY8k7HwhhJ",
        "outputId": "c956e362-bd32-4c72-c1dd-d40fd0fdc95f"
      },
      "execution_count": null,
      "outputs": [
        {
          "output_type": "execute_result",
          "data": {
            "text/plain": [
              "array([[0.        , 0.        , 0.        , 0.        , 0.        ,\n",
              "        0.        , 0.        , 0.        , 0.        , 0.10196078,\n",
              "        0.35294118, 0.        , 0.        , 0.        , 0.        ,\n",
              "        0.        , 0.        , 0.27843137, 0.07843137, 0.        ,\n",
              "        0.        , 0.00392157, 0.        , 0.        , 0.        ,\n",
              "        0.        , 0.        , 0.        ],\n",
              "       [0.        , 0.        , 0.        , 0.        , 0.        ,\n",
              "        0.00784314, 0.        , 0.        , 0.76862745, 0.81568627,\n",
              "        0.65098039, 0.95294118, 0.73333333, 0.53333333, 0.54117647,\n",
              "        0.62745098, 0.90196078, 0.65490196, 0.76078431, 0.7372549 ,\n",
              "        0.        , 0.        , 0.00784314, 0.        , 0.        ,\n",
              "        0.        , 0.        , 0.        ],\n",
              "       [0.        , 0.        , 0.        , 0.        , 0.        ,\n",
              "        0.00392157, 0.        , 0.56862745, 0.90588235, 0.80784314,\n",
              "        0.72941176, 0.62745098, 0.83921569, 0.94117647, 0.92156863,\n",
              "        0.74509804, 0.63137255, 0.71372549, 0.81176471, 0.90588235,\n",
              "        0.59607843, 0.        , 0.        , 0.        , 0.        ,\n",
              "        0.        , 0.        , 0.        ],\n",
              "       [0.        , 0.        , 0.        , 0.        , 0.        ,\n",
              "        0.        , 0.        , 0.74117647, 0.83921569, 0.80784314,\n",
              "        0.81960784, 0.77254902, 0.58039216, 0.5254902 , 0.54117647,\n",
              "        0.63137255, 0.78039216, 0.80784314, 0.8       , 0.82352941,\n",
              "        0.7372549 , 0.        , 0.        , 0.        , 0.        ,\n",
              "        0.        , 0.        , 0.        ],\n",
              "       [0.        , 0.        , 0.        , 0.        , 0.        ,\n",
              "        0.        , 0.00784314, 0.83921569, 0.84313725, 0.81960784,\n",
              "        0.78431373, 0.80392157, 0.84705882, 0.85098039, 0.84313725,\n",
              "        0.83137255, 0.80784314, 0.76470588, 0.81568627, 0.83529412,\n",
              "        0.81960784, 0.00784314, 0.        , 0.        , 0.        ,\n",
              "        0.        , 0.        , 0.        ],\n",
              "       [0.        , 0.        , 0.        , 0.        , 0.        ,\n",
              "        0.        , 0.18039216, 0.89019608, 0.84313725, 0.83529412,\n",
              "        0.76470588, 0.79215686, 0.77254902, 0.78823529, 0.78431373,\n",
              "        0.78431373, 0.79607843, 0.75686275, 0.84313725, 0.83921569,\n",
              "        0.8745098 , 0.17647059, 0.        , 0.        , 0.        ,\n",
              "        0.        , 0.        , 0.        ],\n",
              "       [0.        , 0.        , 0.        , 0.        , 0.        ,\n",
              "        0.        , 0.32156863, 0.91764706, 0.83921569, 0.93333333,\n",
              "        0.81176471, 0.81568627, 0.8       , 0.81176471, 0.80784314,\n",
              "        0.81568627, 0.81568627, 0.78431373, 0.92156863, 0.83921569,\n",
              "        0.89803922, 0.34509804, 0.        , 0.        , 0.        ,\n",
              "        0.        , 0.        , 0.        ],\n",
              "       [0.        , 0.        , 0.        , 0.        , 0.        ,\n",
              "        0.        , 0.45098039, 0.92156863, 0.8627451 , 0.69803922,\n",
              "        0.83921569, 0.83137255, 0.81568627, 0.81568627, 0.81176471,\n",
              "        0.81960784, 0.82352941, 0.83529412, 0.8627451 , 0.85490196,\n",
              "        0.90980392, 0.5372549 , 0.        , 0.        , 0.        ,\n",
              "        0.        , 0.        , 0.        ],\n",
              "       [0.        , 0.        , 0.        , 0.        , 0.        ,\n",
              "        0.        , 0.65882353, 0.92156863, 0.86666667, 0.53333333,\n",
              "        0.85882353, 0.81176471, 0.81176471, 0.81960784, 0.81176471,\n",
              "        0.81960784, 0.81960784, 0.84313725, 0.46666667, 0.89019608,\n",
              "        0.89411765, 0.72156863, 0.        , 0.        , 0.        ,\n",
              "        0.        , 0.        , 0.        ],\n",
              "       [0.        , 0.        , 0.        , 0.        , 0.        ,\n",
              "        0.        , 0.78431373, 0.91372549, 0.8745098 , 0.58431373,\n",
              "        0.87843137, 0.81960784, 0.81960784, 0.82352941, 0.82352941,\n",
              "        0.82352941, 0.81960784, 0.90588235, 0.3372549 , 0.96470588,\n",
              "        0.89411765, 0.86666667, 0.        , 0.        , 0.        ,\n",
              "        0.        , 0.        , 0.        ],\n",
              "       [0.        , 0.        , 0.        , 0.        , 0.        ,\n",
              "        0.        , 0.78431373, 0.9254902 , 0.89411765, 0.39215686,\n",
              "        0.93333333, 0.81176471, 0.82352941, 0.82352941, 0.82352941,\n",
              "        0.82352941, 0.80392157, 0.95294118, 0.28627451, 0.87843137,\n",
              "        0.90588235, 0.81960784, 0.        , 0.        , 0.        ,\n",
              "        0.        , 0.        , 0.        ],\n",
              "       [0.        , 0.        , 0.        , 0.        , 0.        ,\n",
              "        0.        , 0.84705882, 0.94117647, 0.74509804, 0.16470588,\n",
              "        0.96470588, 0.79215686, 0.82745098, 0.82352941, 0.82352941,\n",
              "        0.82745098, 0.80392157, 0.96078431, 0.09019608, 0.75294118,\n",
              "        0.92941176, 0.85490196, 0.11764706, 0.        , 0.        ,\n",
              "        0.        , 0.        , 0.        ],\n",
              "       [0.        , 0.        , 0.        , 0.        , 0.        ,\n",
              "        0.11764706, 0.87843137, 0.96470588, 0.63137255, 0.31764706,\n",
              "        0.96862745, 0.78823529, 0.83137255, 0.82745098, 0.82352941,\n",
              "        0.82352941, 0.79215686, 0.96470588, 0.14509804, 0.67843137,\n",
              "        0.94117647, 0.86666667, 0.30196078, 0.        , 0.        ,\n",
              "        0.        , 0.        , 0.        ],\n",
              "       [0.        , 0.        , 0.        , 0.        , 0.        ,\n",
              "        0.36078431, 0.89019608, 1.        , 0.39215686, 0.55686275,\n",
              "        0.94901961, 0.8       , 0.83529412, 0.82745098, 0.82745098,\n",
              "        0.82352941, 0.8       , 0.94901961, 0.42745098, 0.42745098,\n",
              "        0.95686275, 0.8745098 , 0.43529412, 0.        , 0.        ,\n",
              "        0.        , 0.        , 0.        ],\n",
              "       [0.        , 0.        , 0.        , 0.        , 0.        ,\n",
              "        0.60784314, 0.8627451 , 0.97647059, 0.3372549 , 0.76470588,\n",
              "        0.87843137, 0.81960784, 0.83529412, 0.83137255, 0.82745098,\n",
              "        0.82745098, 0.81960784, 0.89803922, 0.67058824, 0.31372549,\n",
              "        0.98823529, 0.85490196, 0.5372549 , 0.        , 0.        ,\n",
              "        0.        , 0.        , 0.        ],\n",
              "       [0.        , 0.        , 0.        , 0.        , 0.        ,\n",
              "        0.81960784, 0.94901961, 0.94117647, 0.34509804, 0.92156863,\n",
              "        0.82745098, 0.82745098, 0.84313725, 0.83529412, 0.83529412,\n",
              "        0.83137255, 0.81568627, 0.83921569, 0.8627451 , 0.24705882,\n",
              "        0.95294118, 0.91372549, 0.78823529, 0.        , 0.        ,\n",
              "        0.        , 0.        , 0.        ],\n",
              "       [0.        , 0.        , 0.        , 0.        , 0.        ,\n",
              "        0.18431373, 0.6       , 0.70980392, 0.49411765, 0.96078431,\n",
              "        0.80784314, 0.83137255, 0.85098039, 0.83529412, 0.84313725,\n",
              "        0.83137255, 0.82745098, 0.81176471, 0.93333333, 0.34509804,\n",
              "        0.96078431, 0.80784314, 0.49019608, 0.        , 0.        ,\n",
              "        0.        , 0.        , 0.        ],\n",
              "       [0.        , 0.        , 0.        , 0.        , 0.        ,\n",
              "        0.        , 0.        , 0.        , 0.72941176, 0.8627451 ,\n",
              "        0.80392157, 0.83921569, 0.85098039, 0.83529412, 0.83921569,\n",
              "        0.82745098, 0.83137255, 0.82352941, 0.94117647, 0.59607843,\n",
              "        0.        , 0.        , 0.        , 0.        , 0.        ,\n",
              "        0.        , 0.        , 0.        ],\n",
              "       [0.        , 0.        , 0.        , 0.        , 0.        ,\n",
              "        0.01568627, 0.        , 0.        , 0.89411765, 0.84705882,\n",
              "        0.81960784, 0.84313725, 0.85490196, 0.83921569, 0.84313725,\n",
              "        0.83137255, 0.82745098, 0.81960784, 0.85098039, 0.84313725,\n",
              "        0.        , 0.        , 0.        , 0.        , 0.        ,\n",
              "        0.        , 0.        , 0.        ],\n",
              "       [0.        , 0.        , 0.        , 0.        , 0.        ,\n",
              "        0.00392157, 0.        , 0.        , 0.93333333, 0.84313725,\n",
              "        0.82352941, 0.85098039, 0.85882353, 0.84705882, 0.85098039,\n",
              "        0.83529412, 0.83529412, 0.82745098, 0.82745098, 0.92941176,\n",
              "        0.        , 0.        , 0.00392157, 0.        , 0.        ,\n",
              "        0.        , 0.        , 0.        ],\n",
              "       [0.        , 0.        , 0.        , 0.        , 0.        ,\n",
              "        0.01176471, 0.        , 0.        , 0.82745098, 0.83921569,\n",
              "        0.81960784, 0.85098039, 0.85490196, 0.84313725, 0.84705882,\n",
              "        0.83137255, 0.83921569, 0.84313725, 0.81176471, 0.83137255,\n",
              "        0.09411765, 0.        , 0.00784314, 0.        , 0.        ,\n",
              "        0.        , 0.        , 0.        ],\n",
              "       [0.        , 0.        , 0.        , 0.        , 0.        ,\n",
              "        0.01568627, 0.        , 0.02352941, 0.85098039, 0.82745098,\n",
              "        0.81960784, 0.85490196, 0.85490196, 0.84313725, 0.84705882,\n",
              "        0.83529412, 0.83529412, 0.84313725, 0.80392157, 0.85882353,\n",
              "        0.2       , 0.        , 0.01176471, 0.        , 0.        ,\n",
              "        0.        , 0.        , 0.        ],\n",
              "       [0.        , 0.        , 0.        , 0.        , 0.        ,\n",
              "        0.00784314, 0.        , 0.08235294, 0.87843137, 0.82745098,\n",
              "        0.82745098, 0.8627451 , 0.85490196, 0.84313725, 0.85490196,\n",
              "        0.83921569, 0.83529412, 0.84705882, 0.79607843, 0.87058824,\n",
              "        0.30980392, 0.        , 0.01176471, 0.        , 0.        ,\n",
              "        0.        , 0.        , 0.        ],\n",
              "       [0.        , 0.        , 0.        , 0.        , 0.        ,\n",
              "        0.00784314, 0.        , 0.13333333, 0.89803922, 0.82352941,\n",
              "        0.82745098, 0.85882353, 0.85490196, 0.84313725, 0.85490196,\n",
              "        0.83921569, 0.83529412, 0.84705882, 0.79607843, 0.86666667,\n",
              "        0.48235294, 0.        , 0.00392157, 0.        , 0.        ,\n",
              "        0.        , 0.        , 0.        ],\n",
              "       [0.        , 0.        , 0.        , 0.        , 0.        ,\n",
              "        0.01176471, 0.        , 0.20784314, 0.92156863, 0.81960784,\n",
              "        0.82745098, 0.85882353, 0.85882353, 0.84313725, 0.85490196,\n",
              "        0.83921569, 0.83529412, 0.84705882, 0.79607843, 0.85882353,\n",
              "        0.61568627, 0.        , 0.        , 0.        , 0.        ,\n",
              "        0.        , 0.        , 0.        ],\n",
              "       [0.        , 0.        , 0.        , 0.        , 0.        ,\n",
              "        0.00392157, 0.        , 0.34509804, 0.92941176, 0.82352941,\n",
              "        0.81960784, 0.83921569, 0.85490196, 0.84705882, 0.85490196,\n",
              "        0.83921569, 0.82745098, 0.84705882, 0.79607843, 0.85098039,\n",
              "        0.69019608, 0.        , 0.00392157, 0.        , 0.        ,\n",
              "        0.        , 0.        , 0.        ],\n",
              "       [0.        , 0.        , 0.        , 0.        , 0.        ,\n",
              "        0.00784314, 0.        , 0.63921569, 0.96078431, 0.8627451 ,\n",
              "        0.91764706, 0.92941176, 0.91764706, 0.8745098 , 0.87843137,\n",
              "        0.85882353, 0.83529412, 0.88235294, 0.83529412, 0.8745098 ,\n",
              "        0.94509804, 0.        , 0.        , 0.        , 0.        ,\n",
              "        0.        , 0.        , 0.        ],\n",
              "       [0.        , 0.        , 0.        , 0.        , 0.        ,\n",
              "        0.        , 0.        , 0.34901961, 0.7254902 , 0.60784314,\n",
              "        0.65098039, 0.65882353, 0.75294118, 0.80392157, 0.82352941,\n",
              "        0.85098039, 0.78823529, 0.77254902, 0.69411765, 0.65098039,\n",
              "        0.40784314, 0.        , 0.        , 0.        , 0.        ,\n",
              "        0.        , 0.        , 0.        ]])"
            ]
          },
          "metadata": {},
          "execution_count": 15
        }
      ]
    },
    {
      "cell_type": "code",
      "source": [
        "model = keras.models.Sequential()\n",
        "model.add(keras.layers.Flatten()) # we flatten it to 784 neurons i.e. 28 * 28 = 784\n",
        "model.add(keras.layers.Dense(512,input_shape=(28,28),activation = 'relu')) #hidden layer\n",
        "model.add(keras.layers.Dense(10,activation = 'softmax')) #output layer\n",
        "\n",
        "#we write input layer only when we have to flatten it.\n",
        "#otherwise it is not needed"
      ],
      "metadata": {
        "id": "LSN_mXR6wheK"
      },
      "execution_count": null,
      "outputs": []
    },
    {
      "cell_type": "code",
      "source": [
        "28 * 28"
      ],
      "metadata": {
        "colab": {
          "base_uri": "https://localhost:8080/"
        },
        "id": "bSQ1Cv2WwhbA",
        "outputId": "86d7e8b6-23f5-4bb9-87b2-4b43df9923cc"
      },
      "execution_count": null,
      "outputs": [
        {
          "output_type": "execute_result",
          "data": {
            "text/plain": [
              "784"
            ]
          },
          "metadata": {},
          "execution_count": 17
        }
      ]
    },
    {
      "cell_type": "code",
      "source": [
        "#for classification method, categorical crossentropy is used\n",
        "\n",
        "model.compile(optimizer = 'adam',loss = 'sparse_categorical_crossentropy', metrics = ['accuracy'])"
      ],
      "metadata": {
        "id": "XHopAj_kwhX6"
      },
      "execution_count": null,
      "outputs": []
    },
    {
      "cell_type": "code",
      "source": [
        "#Loss and accuracy is obtained\n",
        "\n",
        "history = model.fit(x_train,y_train,epochs = 35)"
      ],
      "metadata": {
        "colab": {
          "base_uri": "https://localhost:8080/"
        },
        "id": "cu6_w4lQwhUr",
        "outputId": "3c824226-1c6b-4987-c4a4-29c35e79a144"
      },
      "execution_count": null,
      "outputs": [
        {
          "output_type": "stream",
          "name": "stdout",
          "text": [
            "Epoch 1/35\n",
            "1875/1875 [==============================] - 18s 9ms/step - loss: 0.4772 - accuracy: 0.8300\n",
            "Epoch 2/35\n",
            "1875/1875 [==============================] - 18s 9ms/step - loss: 0.3606 - accuracy: 0.8677\n",
            "Epoch 3/35\n",
            "1875/1875 [==============================] - 18s 10ms/step - loss: 0.3235 - accuracy: 0.8804\n",
            "Epoch 4/35\n",
            "1875/1875 [==============================] - 17s 9ms/step - loss: 0.2993 - accuracy: 0.8890\n",
            "Epoch 5/35\n",
            "1875/1875 [==============================] - 18s 10ms/step - loss: 0.2806 - accuracy: 0.8957\n",
            "Epoch 6/35\n",
            "1875/1875 [==============================] - 18s 9ms/step - loss: 0.2664 - accuracy: 0.9012\n",
            "Epoch 7/35\n",
            "1875/1875 [==============================] - 17s 9ms/step - loss: 0.2518 - accuracy: 0.9057\n",
            "Epoch 8/35\n",
            "1875/1875 [==============================] - 18s 10ms/step - loss: 0.2415 - accuracy: 0.9088\n",
            "Epoch 9/35\n",
            "1875/1875 [==============================] - 16s 9ms/step - loss: 0.2312 - accuracy: 0.9129\n",
            "Epoch 10/35\n",
            "1875/1875 [==============================] - 17s 9ms/step - loss: 0.2222 - accuracy: 0.9156\n",
            "Epoch 11/35\n",
            "1875/1875 [==============================] - 16s 8ms/step - loss: 0.2136 - accuracy: 0.9187\n",
            "Epoch 12/35\n",
            "1875/1875 [==============================] - 17s 9ms/step - loss: 0.2052 - accuracy: 0.9229\n",
            "Epoch 13/35\n",
            "1875/1875 [==============================] - 16s 9ms/step - loss: 0.1979 - accuracy: 0.9262\n",
            "Epoch 14/35\n",
            "1875/1875 [==============================] - 16s 8ms/step - loss: 0.1926 - accuracy: 0.9267\n",
            "Epoch 15/35\n",
            "1875/1875 [==============================] - 17s 9ms/step - loss: 0.1830 - accuracy: 0.9308\n",
            "Epoch 16/35\n",
            "1875/1875 [==============================] - 16s 8ms/step - loss: 0.1793 - accuracy: 0.9323\n",
            "Epoch 17/35\n",
            "1875/1875 [==============================] - 16s 8ms/step - loss: 0.1743 - accuracy: 0.9340\n",
            "Epoch 18/35\n",
            "1875/1875 [==============================] - 15s 8ms/step - loss: 0.1666 - accuracy: 0.9370\n",
            "Epoch 19/35\n",
            "1875/1875 [==============================] - 21s 11ms/step - loss: 0.1615 - accuracy: 0.9394\n",
            "Epoch 20/35\n",
            "1875/1875 [==============================] - 17s 9ms/step - loss: 0.1586 - accuracy: 0.9412\n",
            "Epoch 21/35\n",
            "1875/1875 [==============================] - 17s 9ms/step - loss: 0.1533 - accuracy: 0.9421\n",
            "Epoch 22/35\n",
            "1875/1875 [==============================] - 16s 9ms/step - loss: 0.1484 - accuracy: 0.9428\n",
            "Epoch 23/35\n",
            "1875/1875 [==============================] - 16s 9ms/step - loss: 0.1435 - accuracy: 0.9463\n",
            "Epoch 24/35\n",
            "1875/1875 [==============================] - 16s 9ms/step - loss: 0.1388 - accuracy: 0.9482\n",
            "Epoch 25/35\n",
            "1875/1875 [==============================] - 17s 9ms/step - loss: 0.1371 - accuracy: 0.9485\n",
            "Epoch 26/35\n",
            "1875/1875 [==============================] - 18s 9ms/step - loss: 0.1342 - accuracy: 0.9506\n",
            "Epoch 27/35\n",
            "1875/1875 [==============================] - 17s 9ms/step - loss: 0.1310 - accuracy: 0.9505\n",
            "Epoch 28/35\n",
            "1875/1875 [==============================] - 16s 9ms/step - loss: 0.1259 - accuracy: 0.9531\n",
            "Epoch 29/35\n",
            "1875/1875 [==============================] - 15s 8ms/step - loss: 0.1234 - accuracy: 0.9535\n",
            "Epoch 30/35\n",
            "1875/1875 [==============================] - 16s 8ms/step - loss: 0.1205 - accuracy: 0.9539\n",
            "Epoch 31/35\n",
            "1875/1875 [==============================] - 18s 10ms/step - loss: 0.1154 - accuracy: 0.9570\n",
            "Epoch 32/35\n",
            "1875/1875 [==============================] - 16s 9ms/step - loss: 0.1131 - accuracy: 0.9578\n",
            "Epoch 33/35\n",
            "1875/1875 [==============================] - 16s 8ms/step - loss: 0.1126 - accuracy: 0.9580\n",
            "Epoch 34/35\n",
            "1875/1875 [==============================] - 17s 9ms/step - loss: 0.1114 - accuracy: 0.9582\n",
            "Epoch 35/35\n",
            "1875/1875 [==============================] - 16s 8ms/step - loss: 0.1083 - accuracy: 0.9590\n"
          ]
        }
      ]
    },
    {
      "cell_type": "code",
      "source": [
        "#the machine was trained 35 times\n",
        "#Observation: loss decreases and accuracy increases"
      ],
      "metadata": {
        "id": "NdLVLeV2whRf"
      },
      "execution_count": null,
      "outputs": []
    },
    {
      "cell_type": "code",
      "source": [
        "model.get_weights()"
      ],
      "metadata": {
        "colab": {
          "base_uri": "https://localhost:8080/"
        },
        "id": "yyFezqtEwhOL",
        "outputId": "eaef8ba0-6c7c-4bb8-8b12-cb318d909bd8"
      },
      "execution_count": null,
      "outputs": [
        {
          "output_type": "execute_result",
          "data": {
            "text/plain": [
              "[array([[-0.02777172, -0.0186642 , -0.05720583, ..., -0.05836676,\n",
              "         -0.18351893, -0.00206266],\n",
              "        [-0.14028662,  0.07405264, -0.00971891, ...,  0.03607101,\n",
              "          0.2472883 , -0.01534758],\n",
              "        [-0.2524198 ,  0.06209525, -0.06615973, ..., -0.018692  ,\n",
              "         -0.31123045, -0.03177805],\n",
              "        ...,\n",
              "        [-0.14177182, -0.03504634,  0.01455999, ...,  0.19448957,\n",
              "         -0.08935346, -0.16116722],\n",
              "        [-0.40428093, -0.17575726, -0.00605838, ..., -0.04982678,\n",
              "         -0.24983808, -0.17622896],\n",
              "        [-0.08736435, -0.0304811 , -0.06551833, ...,  0.0901488 ,\n",
              "         -0.6734455 , -0.08399118]], dtype=float32),\n",
              " array([ 6.61315739e-01,  3.74361463e-02,  2.33035266e-01,  5.30457079e-01,\n",
              "         2.71725029e-01, -3.58530483e-03,  2.26219639e-01,  2.81101435e-01,\n",
              "         8.82835865e-01,  9.11430001e-01, -1.10007254e-02,  8.41512829e-02,\n",
              "         2.03757197e-01,  1.24502920e-01, -1.47639647e-01, -2.24368926e-02,\n",
              "         7.25718558e-01,  1.78060964e-01,  6.29409850e-01,  1.22624733e-01,\n",
              "        -2.09839031e-01,  4.95161861e-01,  3.71854305e-01,  4.43437457e-01,\n",
              "        -1.14868460e-02, -8.16791430e-02,  2.51879364e-01,  4.41449940e-01,\n",
              "        -4.81279552e-01, -3.54359835e-01, -7.62886042e-03,  2.01847821e-01,\n",
              "         1.10033453e-01,  1.69416666e-01, -3.77927348e-03, -1.95651297e-02,\n",
              "         3.52896601e-01, -9.87150446e-02,  3.65878403e-01, -1.18604433e-02,\n",
              "         4.51584220e-01,  5.19289494e-01,  6.78846687e-02, -4.65321355e-03,\n",
              "        -9.43223014e-03, -3.72975051e-01, -9.65685546e-02,  2.85189509e-01,\n",
              "         3.28570426e-01,  7.00737983e-02,  1.60361961e-01,  5.72896898e-01,\n",
              "         5.50172448e-01, -2.16170579e-01,  3.51213753e-01,  1.56138077e-01,\n",
              "         4.23671082e-02, -3.31194289e-02,  4.64178562e-01,  7.32563376e-01,\n",
              "         3.78862083e-01, -6.47228003e-01,  1.15186088e-01,  2.87235349e-01,\n",
              "        -1.07417861e-02, -2.36125186e-01, -2.06117984e-02,  2.90298432e-01,\n",
              "         3.90967220e-01, -1.46613911e-01, -4.01277691e-02,  1.15052633e-01,\n",
              "        -9.45185944e-02,  3.18131775e-01,  4.11126643e-01,  8.13681304e-01,\n",
              "        -1.12952650e-01, -4.25888091e-01,  3.62109661e-01,  8.83842632e-02,\n",
              "         1.01367086e-01,  1.67971611e-01,  1.22542912e-02, -2.52261497e-02,\n",
              "        -1.61096081e-02, -2.37882882e-02,  8.23209941e-01,  3.03344756e-01,\n",
              "        -1.47741912e-02,  2.91736168e-03,  8.77343640e-02,  2.82536089e-01,\n",
              "        -3.17802936e-01,  8.37241292e-01, -8.97950754e-02,  5.52891850e-01,\n",
              "         9.65574309e-02,  2.06590682e-01,  4.12195802e-01, -1.61990593e-03,\n",
              "         4.16029185e-01,  9.10051048e-01,  2.59799659e-01,  2.64011323e-01,\n",
              "         1.02342582e+00,  4.35953110e-01,  4.08748984e-01,  3.27820420e-01,\n",
              "         4.68262434e-01,  8.47547278e-02, -1.71289351e-02,  4.39445794e-01,\n",
              "         7.04900742e-01,  3.19677055e-01,  2.60980815e-01,  2.37984017e-01,\n",
              "        -4.27204520e-01,  2.00938329e-01,  4.67069089e-01,  7.58678764e-02,\n",
              "         1.24780439e-01,  2.74501015e-02,  2.09978819e-01,  4.83804435e-01,\n",
              "        -1.18755270e-02,  3.64101082e-01,  2.91331649e-01,  2.57110745e-01,\n",
              "         2.71204948e-01,  2.87901551e-01,  1.32756755e-01,  1.15623474e-02,\n",
              "         3.08098763e-01,  3.69576037e-01,  3.39452952e-01, -2.17234865e-02,\n",
              "         3.37193966e-01,  4.55419451e-01,  1.09025776e+00,  2.83858657e-01,\n",
              "         2.03374177e-01, -1.24281039e-02, -6.27235090e-03, -4.19331551e-01,\n",
              "        -9.34593230e-02,  4.21389341e-01,  5.76135553e-02, -1.10445760e-01,\n",
              "         3.63886803e-01,  8.51951659e-01, -2.36112207e-01,  1.11382082e-01,\n",
              "         5.09500146e-01,  7.73206234e-01,  1.35835230e-01,  2.93844014e-01,\n",
              "        -2.86403503e-02, -1.06144417e-03,  6.45104498e-02,  2.00726137e-01,\n",
              "         6.94336072e-02,  6.09632850e-01,  5.14292121e-01,  4.05078173e-01,\n",
              "        -1.02228031e-01,  5.40406823e-01,  7.58204937e-01,  4.53329891e-01,\n",
              "         4.53308970e-02,  5.19688308e-01,  6.31419480e-01, -7.63301626e-02,\n",
              "        -2.94026341e-02, -1.16305742e-02,  6.39297605e-01,  6.12171292e-01,\n",
              "         5.78040123e-01,  3.77091110e-01, -1.18152983e-02,  2.23348245e-01,\n",
              "         6.59258723e-01,  7.55477871e-04, -1.23955861e-01, -4.82739694e-03,\n",
              "         6.13341033e-01, -6.98601315e-03,  3.64873648e-01,  1.58971876e-01,\n",
              "         3.88478041e-01,  2.38928199e-01,  7.03222334e-01,  3.28737587e-01,\n",
              "        -3.65590751e-01,  5.84703498e-02,  1.53307587e-01,  9.36928988e-01,\n",
              "         1.93354905e-01, -3.26024622e-01, -1.14162393e-01,  4.26487446e-01,\n",
              "        -4.72608246e-02, -3.14635262e-02, -8.95989686e-02,  1.37576982e-01,\n",
              "         1.49288177e-01,  3.10024559e-01, -4.24887598e-01,  1.82006285e-01,\n",
              "         1.45439267e-01,  2.91090518e-01,  9.78159487e-01,  5.88655055e-01,\n",
              "         9.34011042e-01,  2.40815386e-01,  4.87721264e-01, -1.02029545e-02,\n",
              "        -1.49075180e-01,  1.66706368e-02, -2.11902168e-02,  3.30103308e-01,\n",
              "         2.11867653e-02,  6.31462395e-01, -1.57780439e-01,  5.70039272e-01,\n",
              "        -1.48466500e-02, -3.64971049e-02,  8.45479846e-01,  2.02761181e-02,\n",
              "        -1.25910128e-02,  6.12573802e-01,  7.74500847e-01,  1.79891229e-01,\n",
              "         2.93435931e-01,  5.86550415e-01,  1.68684602e-01, -2.01067314e-01,\n",
              "         1.62982091e-01,  4.55386788e-01, -3.89196128e-02,  3.47605675e-01,\n",
              "         1.31676048e-01,  2.25872070e-01,  9.74210426e-02,  3.57769936e-01,\n",
              "         3.30013148e-02,  1.86795920e-01, -5.73880315e-01,  2.83433735e-01,\n",
              "         5.02376676e-01,  1.84359223e-01,  2.13010937e-01, -2.51480006e-03,\n",
              "         3.69720668e-01,  7.41136432e-01,  3.82772595e-01,  7.64115676e-02,\n",
              "         4.49364007e-01,  4.16118443e-01, -1.46798100e-02, -2.04400897e-01,\n",
              "         6.06906295e-01,  2.16742381e-01,  2.16374263e-01,  4.07771140e-01,\n",
              "         2.60462046e-01,  3.75678658e-01,  6.44018829e-01,  1.75562680e-01,\n",
              "         7.78084755e-01, -6.86262362e-03,  2.46427223e-01,  4.89616275e-01,\n",
              "        -1.38383079e-02,  8.30735385e-01,  4.33564603e-01, -3.21938545e-02,\n",
              "        -1.74646437e-01, -4.39528003e-02,  1.13198183e-01,  8.00534904e-01,\n",
              "        -6.41139364e-03,  1.94486499e-01,  3.80612493e-01,  3.34791332e-01,\n",
              "         2.48563528e-01, -3.33415926e-03, -3.19360644e-01,  5.00070572e-01,\n",
              "        -1.23356529e-01, -2.91856736e-01, -1.78400648e-03, -2.02934593e-02,\n",
              "         8.22997373e-03,  7.84932226e-02,  7.74219871e-01, -1.22533754e-01,\n",
              "        -5.93100965e-01,  2.53056556e-01,  1.40658207e-02,  4.95529264e-01,\n",
              "        -1.64576210e-02,  2.08176062e-01,  2.54100531e-01,  3.26258898e-01,\n",
              "        -8.87381062e-02,  1.36827424e-01,  3.81241217e-02,  6.83692634e-01,\n",
              "        -1.27910823e-02,  3.93130869e-01,  3.82671088e-01, -9.85801592e-03,\n",
              "         9.47896242e-01, -1.52295530e-01, -1.47078454e-01,  8.83382037e-02,\n",
              "         2.72713439e-03,  2.08371162e-01,  5.36688387e-01,  1.78879514e-01,\n",
              "         4.36789662e-01,  3.27621669e-01,  1.69080421e-01,  1.12114775e+00,\n",
              "         5.82440533e-02,  1.02656327e-01,  5.21447621e-02, -2.18814723e-02,\n",
              "         2.17412949e-01,  1.23245753e-01,  5.07484317e-01,  6.20463789e-01,\n",
              "         8.35313916e-01,  5.88486373e-01, -2.78633356e-01,  4.75784242e-01,\n",
              "        -7.81303570e-02,  4.81911391e-01,  1.29730821e-01,  7.20765352e-01,\n",
              "         1.31012559e-01,  6.35524511e-01,  2.18851015e-01,  3.64984691e-01,\n",
              "        -2.59320401e-02,  3.48931134e-01, -4.15203683e-02,  5.19910455e-01,\n",
              "         1.56827286e-01, -1.36062643e-02,  4.48787391e-01,  3.42180938e-01,\n",
              "         1.75355569e-01,  3.40923905e-01, -1.54404100e-02,  3.44576687e-02,\n",
              "        -1.23645933e-02, -9.34805125e-02,  6.55940056e-01,  1.33753970e-01,\n",
              "         2.76849240e-01,  7.66278327e-01,  3.44547093e-01, -1.72236234e-01,\n",
              "         4.11071569e-01,  4.77898359e-01,  2.07550913e-01, -2.48103291e-02,\n",
              "         5.14060557e-01,  2.96059191e-01,  2.52308995e-01,  5.82929313e-01,\n",
              "        -1.98543053e-02, -1.43541237e-02, -1.99082851e-01,  3.55897278e-01,\n",
              "        -3.47942635e-02,  5.64428687e-01,  8.05232003e-02,  4.34856325e-01,\n",
              "        -2.57009454e-02,  2.43477330e-01,  3.81356388e-01,  6.63065374e-01,\n",
              "         4.20260936e-01,  4.37129527e-01,  3.62072229e-01,  3.10788572e-01,\n",
              "         7.80138493e-01,  6.05120778e-01,  4.36259396e-02,  1.05577223e-01,\n",
              "         2.03987837e-01, -2.11471826e-01,  1.68449715e-01, -2.78268486e-01,\n",
              "         9.88063589e-02, -1.50628425e-02,  5.24347246e-01,  3.91204685e-01,\n",
              "         2.68917501e-01,  5.49154103e-01,  1.20747484e-01,  1.76730826e-01,\n",
              "         1.13903351e-01, -6.46774709e-01,  1.74794987e-01,  1.30502045e-01,\n",
              "        -1.11748445e+00, -1.04453843e-02,  4.99689430e-01,  7.88738281e-02,\n",
              "        -1.34758130e-01, -2.83155926e-02, -4.30525020e-02, -1.96233436e-01,\n",
              "         5.92664182e-01,  3.22680533e-01, -1.07469849e-01, -4.12454531e-02,\n",
              "        -9.53821000e-03,  1.99787557e-01, -1.24954516e-02, -4.62562777e-02,\n",
              "         5.79169273e-01, -2.82638669e-01,  4.99963522e-01,  8.12630951e-01,\n",
              "        -1.79432288e-01,  7.03359962e-01, -5.85768104e-01, -4.41733062e-01,\n",
              "         1.41507700e-01,  5.99921525e-01,  8.19854081e-01,  4.73559976e-01,\n",
              "         1.28853414e-03,  3.28857839e-01, -1.11990497e-01,  4.51554447e-01,\n",
              "         1.13275945e+00,  2.77569622e-01,  1.74064532e-01,  5.60581684e-02,\n",
              "         2.01640472e-01,  9.62041244e-02,  8.06661785e-01,  2.29008287e-01,\n",
              "         7.76263118e-01, -4.19079810e-02, -3.57898563e-01,  5.09759784e-01,\n",
              "        -1.14674643e-02,  2.05832615e-01, -1.90050662e-01, -2.63764352e-01,\n",
              "         8.58288556e-02,  1.02275693e+00,  4.12994236e-01,  1.23558208e-01,\n",
              "         4.40253168e-01,  4.69356239e-01,  1.78861782e-01,  8.03940415e-01,\n",
              "        -5.29380552e-02,  2.16233149e-01,  4.36767310e-01,  6.57637492e-02,\n",
              "         3.30496281e-01,  3.00287127e-01, -3.86741422e-02,  4.49308485e-01,\n",
              "         1.42232955e-01, -9.44873225e-03,  4.41556936e-03, -1.58842988e-02,\n",
              "        -1.01985047e-02,  2.77661055e-01, -2.30237529e-01, -5.69696445e-03,\n",
              "         9.32427287e-01, -2.01118305e-01,  3.52724046e-01,  1.58398487e-02,\n",
              "         2.30745915e-02, -2.42322907e-02,  5.80874443e-01, -1.44263236e-02,\n",
              "        -6.95048571e-02,  1.94735944e-01,  2.26183921e-01,  2.69229263e-01,\n",
              "         7.28465915e-01,  3.28639001e-01,  9.78945419e-02,  5.02292931e-01,\n",
              "         1.47476317e-02,  1.11693643e-01,  1.44603059e-01,  1.02160230e-01,\n",
              "         2.07110807e-01, -1.20576248e-02,  7.29447305e-01,  1.18614845e-01,\n",
              "         4.76925910e-01,  3.37178439e-01,  3.60672712e-01, -2.57871188e-02,\n",
              "         2.34940842e-01,  5.64436316e-01,  5.21225154e-01,  3.38660359e-01],\n",
              "       dtype=float32),\n",
              " array([[-0.4495489 , -0.43548024, -0.2541528 , ..., -0.32233426,\n",
              "          0.4153003 , -0.62514234],\n",
              "        [-0.09193398, -0.10705249, -0.02127789, ..., -0.07228561,\n",
              "          0.1090057 ,  0.10082515],\n",
              "        [-0.5941155 , -0.46250305, -0.36209384, ..., -0.08242916,\n",
              "         -0.5252158 , -0.16775155],\n",
              "        ...,\n",
              "        [-0.68790346,  0.03833556, -1.7823613 , ...,  0.30090544,\n",
              "         -0.7138498 , -0.21201964],\n",
              "        [ 0.68433315, -0.02802853,  0.13329048, ..., -0.7195921 ,\n",
              "         -0.3368717 , -0.30168542],\n",
              "        [-0.25598708, -0.21438046, -0.52091384, ..., -0.164651  ,\n",
              "          0.32347405, -0.21761242]], dtype=float32),\n",
              " array([-0.24574779, -0.7405471 ,  0.2195668 ,  0.45333856, -0.5042536 ,\n",
              "        -0.23672752,  0.2908261 ,  0.2139793 ,  0.61278814, -0.4692248 ],\n",
              "       dtype=float32)]"
            ]
          },
          "metadata": {},
          "execution_count": 21
        }
      ]
    },
    {
      "cell_type": "code",
      "source": [
        "model.predict(x_test)"
      ],
      "metadata": {
        "colab": {
          "base_uri": "https://localhost:8080/"
        },
        "id": "9DgMZwOzw7I7",
        "outputId": "fb6ed0f2-5584-4a09-caf5-14399fbf5c0f"
      },
      "execution_count": null,
      "outputs": [
        {
          "output_type": "stream",
          "name": "stdout",
          "text": [
            "313/313 [==============================] - 1s 2ms/step\n"
          ]
        },
        {
          "output_type": "execute_result",
          "data": {
            "text/plain": [
              "array([[3.7313556e-16, 6.4924025e-21, 3.5461607e-14, ..., 2.4342293e-07,\n",
              "        1.5581008e-19, 9.9999970e-01],\n",
              "       [3.3744370e-06, 5.0174825e-21, 9.9999350e-01, ..., 1.0220200e-19,\n",
              "        1.1752977e-18, 1.3452475e-16],\n",
              "       [1.2090123e-23, 9.9999994e-01, 0.0000000e+00, ..., 0.0000000e+00,\n",
              "        5.9859323e-25, 0.0000000e+00],\n",
              "       ...,\n",
              "       [1.2269822e-18, 2.9802496e-29, 3.0395145e-23, ..., 1.0378696e-23,\n",
              "        9.9999994e-01, 6.5862317e-33],\n",
              "       [3.5748090e-20, 9.9999994e-01, 1.6145323e-31, ..., 5.4396514e-28,\n",
              "        7.5901398e-18, 1.0243918e-34],\n",
              "       [5.7704961e-09, 5.1072478e-21, 4.1929837e-09, ..., 8.3852165e-06,\n",
              "        5.7669479e-07, 4.9700188e-10]], dtype=float32)"
            ]
          },
          "metadata": {},
          "execution_count": 22
        }
      ]
    },
    {
      "cell_type": "code",
      "source": [
        "#Probability of all values\n",
        "model.predict(x_test)[0]"
      ],
      "metadata": {
        "colab": {
          "base_uri": "https://localhost:8080/"
        },
        "id": "bRuMt1Shw7E-",
        "outputId": "ff21db29-9124-48d5-887f-ed0a01b7698e"
      },
      "execution_count": null,
      "outputs": [
        {
          "output_type": "stream",
          "name": "stdout",
          "text": [
            "313/313 [==============================] - 1s 2ms/step\n"
          ]
        },
        {
          "output_type": "execute_result",
          "data": {
            "text/plain": [
              "array([3.7313556e-16, 6.4924025e-21, 3.5461607e-14, 4.6215653e-25,\n",
              "       7.7772386e-21, 6.9418054e-09, 4.2808139e-15, 2.4342293e-07,\n",
              "       1.5581008e-19, 9.9999970e-01], dtype=float32)"
            ]
          },
          "metadata": {},
          "execution_count": 23
        }
      ]
    },
    {
      "cell_type": "code",
      "source": [
        "import numpy as np\n",
        "import pandas as pd"
      ],
      "metadata": {
        "id": "I9PQ6D_bw7A1"
      },
      "execution_count": null,
      "outputs": []
    },
    {
      "cell_type": "code",
      "source": [
        "y_pred = np.argmax(model.predict(x_test), axis = 1)\n",
        "y_pred"
      ],
      "metadata": {
        "colab": {
          "base_uri": "https://localhost:8080/"
        },
        "id": "YeXk26-2w685",
        "outputId": "d9a6b24b-ac0f-4a1d-9780-b36342ebfecb"
      },
      "execution_count": null,
      "outputs": [
        {
          "output_type": "stream",
          "name": "stdout",
          "text": [
            "313/313 [==============================] - 1s 2ms/step\n"
          ]
        },
        {
          "output_type": "execute_result",
          "data": {
            "text/plain": [
              "array([9, 2, 1, ..., 8, 1, 5])"
            ]
          },
          "metadata": {},
          "execution_count": 25
        }
      ]
    },
    {
      "cell_type": "code",
      "source": [
        "y_test"
      ],
      "metadata": {
        "colab": {
          "base_uri": "https://localhost:8080/"
        },
        "id": "bVMSk64Rw65e",
        "outputId": "089d44d6-0df5-41b7-d435-8a5ca8843048"
      },
      "execution_count": null,
      "outputs": [
        {
          "output_type": "execute_result",
          "data": {
            "text/plain": [
              "array([9, 2, 1, ..., 8, 1, 5], dtype=uint8)"
            ]
          },
          "metadata": {},
          "execution_count": 26
        }
      ]
    },
    {
      "cell_type": "code",
      "source": [
        "from sklearn.metrics import accuracy_score\n",
        "from sklearn.metrics import confusion_matrix"
      ],
      "metadata": {
        "id": "u2DpvBQuw603"
      },
      "execution_count": null,
      "outputs": []
    },
    {
      "cell_type": "code",
      "source": [
        "accuracy_score(y_test,y_pred)"
      ],
      "metadata": {
        "colab": {
          "base_uri": "https://localhost:8080/"
        },
        "id": "ez0PkdqRxImb",
        "outputId": "a79d2c79-86e3-4d4e-d2e8-5b3753858fd5"
      },
      "execution_count": null,
      "outputs": [
        {
          "output_type": "execute_result",
          "data": {
            "text/plain": [
              "0.8949"
            ]
          },
          "metadata": {},
          "execution_count": 28
        }
      ]
    },
    {
      "cell_type": "code",
      "source": [
        "confusion_matrix(y_test,y_pred)"
      ],
      "metadata": {
        "colab": {
          "base_uri": "https://localhost:8080/"
        },
        "id": "GQbSgG1bxIgy",
        "outputId": "96ae9650-011e-45f0-ff28-339b27dfda17"
      },
      "execution_count": null,
      "outputs": [
        {
          "output_type": "execute_result",
          "data": {
            "text/plain": [
              "array([[828,   1,  23,  20,   1,   0, 122,   0,   5,   0],\n",
              "       [  2, 976,   3,  11,   4,   0,   3,   0,   1,   0],\n",
              "       [ 17,   1, 848,   8,  52,   0,  73,   0,   1,   0],\n",
              "       [ 18,   4,  13, 912,  20,   0,  29,   1,   3,   0],\n",
              "       [  1,   1, 119,  40, 768,   0,  70,   0,   1,   0],\n",
              "       [  0,   0,   0,   1,   0, 957,   0,  26,   0,  16],\n",
              "       [ 86,   1,  92,  27,  40,   0, 747,   0,   7,   0],\n",
              "       [  0,   0,   0,   0,   0,   5,   0, 967,   0,  28],\n",
              "       [  3,   1,   5,   3,   3,   1,   4,   4, 976,   0],\n",
              "       [  0,   0,   0,   1,   0,   3,   1,  25,   0, 970]])"
            ]
          },
          "metadata": {},
          "execution_count": 29
        }
      ]
    },
    {
      "cell_type": "code",
      "source": [
        "pd.DataFrame(confusion_matrix(y_test,y_pred))"
      ],
      "metadata": {
        "colab": {
          "base_uri": "https://localhost:8080/",
          "height": 363
        },
        "id": "jQw5-4nCxIdp",
        "outputId": "e8137656-8a03-4335-dff5-2c49c8c16b9e"
      },
      "execution_count": null,
      "outputs": [
        {
          "output_type": "execute_result",
          "data": {
            "text/plain": [
              "     0    1    2    3    4    5    6    7    8    9\n",
              "0  828    1   23   20    1    0  122    0    5    0\n",
              "1    2  976    3   11    4    0    3    0    1    0\n",
              "2   17    1  848    8   52    0   73    0    1    0\n",
              "3   18    4   13  912   20    0   29    1    3    0\n",
              "4    1    1  119   40  768    0   70    0    1    0\n",
              "5    0    0    0    1    0  957    0   26    0   16\n",
              "6   86    1   92   27   40    0  747    0    7    0\n",
              "7    0    0    0    0    0    5    0  967    0   28\n",
              "8    3    1    5    3    3    1    4    4  976    0\n",
              "9    0    0    0    1    0    3    1   25    0  970"
            ],
            "text/html": [
              "\n",
              "  <div id=\"df-08bbc442-136d-4d60-bff1-c64f3de02f7a\">\n",
              "    <div class=\"colab-df-container\">\n",
              "      <div>\n",
              "<style scoped>\n",
              "    .dataframe tbody tr th:only-of-type {\n",
              "        vertical-align: middle;\n",
              "    }\n",
              "\n",
              "    .dataframe tbody tr th {\n",
              "        vertical-align: top;\n",
              "    }\n",
              "\n",
              "    .dataframe thead th {\n",
              "        text-align: right;\n",
              "    }\n",
              "</style>\n",
              "<table border=\"1\" class=\"dataframe\">\n",
              "  <thead>\n",
              "    <tr style=\"text-align: right;\">\n",
              "      <th></th>\n",
              "      <th>0</th>\n",
              "      <th>1</th>\n",
              "      <th>2</th>\n",
              "      <th>3</th>\n",
              "      <th>4</th>\n",
              "      <th>5</th>\n",
              "      <th>6</th>\n",
              "      <th>7</th>\n",
              "      <th>8</th>\n",
              "      <th>9</th>\n",
              "    </tr>\n",
              "  </thead>\n",
              "  <tbody>\n",
              "    <tr>\n",
              "      <th>0</th>\n",
              "      <td>828</td>\n",
              "      <td>1</td>\n",
              "      <td>23</td>\n",
              "      <td>20</td>\n",
              "      <td>1</td>\n",
              "      <td>0</td>\n",
              "      <td>122</td>\n",
              "      <td>0</td>\n",
              "      <td>5</td>\n",
              "      <td>0</td>\n",
              "    </tr>\n",
              "    <tr>\n",
              "      <th>1</th>\n",
              "      <td>2</td>\n",
              "      <td>976</td>\n",
              "      <td>3</td>\n",
              "      <td>11</td>\n",
              "      <td>4</td>\n",
              "      <td>0</td>\n",
              "      <td>3</td>\n",
              "      <td>0</td>\n",
              "      <td>1</td>\n",
              "      <td>0</td>\n",
              "    </tr>\n",
              "    <tr>\n",
              "      <th>2</th>\n",
              "      <td>17</td>\n",
              "      <td>1</td>\n",
              "      <td>848</td>\n",
              "      <td>8</td>\n",
              "      <td>52</td>\n",
              "      <td>0</td>\n",
              "      <td>73</td>\n",
              "      <td>0</td>\n",
              "      <td>1</td>\n",
              "      <td>0</td>\n",
              "    </tr>\n",
              "    <tr>\n",
              "      <th>3</th>\n",
              "      <td>18</td>\n",
              "      <td>4</td>\n",
              "      <td>13</td>\n",
              "      <td>912</td>\n",
              "      <td>20</td>\n",
              "      <td>0</td>\n",
              "      <td>29</td>\n",
              "      <td>1</td>\n",
              "      <td>3</td>\n",
              "      <td>0</td>\n",
              "    </tr>\n",
              "    <tr>\n",
              "      <th>4</th>\n",
              "      <td>1</td>\n",
              "      <td>1</td>\n",
              "      <td>119</td>\n",
              "      <td>40</td>\n",
              "      <td>768</td>\n",
              "      <td>0</td>\n",
              "      <td>70</td>\n",
              "      <td>0</td>\n",
              "      <td>1</td>\n",
              "      <td>0</td>\n",
              "    </tr>\n",
              "    <tr>\n",
              "      <th>5</th>\n",
              "      <td>0</td>\n",
              "      <td>0</td>\n",
              "      <td>0</td>\n",
              "      <td>1</td>\n",
              "      <td>0</td>\n",
              "      <td>957</td>\n",
              "      <td>0</td>\n",
              "      <td>26</td>\n",
              "      <td>0</td>\n",
              "      <td>16</td>\n",
              "    </tr>\n",
              "    <tr>\n",
              "      <th>6</th>\n",
              "      <td>86</td>\n",
              "      <td>1</td>\n",
              "      <td>92</td>\n",
              "      <td>27</td>\n",
              "      <td>40</td>\n",
              "      <td>0</td>\n",
              "      <td>747</td>\n",
              "      <td>0</td>\n",
              "      <td>7</td>\n",
              "      <td>0</td>\n",
              "    </tr>\n",
              "    <tr>\n",
              "      <th>7</th>\n",
              "      <td>0</td>\n",
              "      <td>0</td>\n",
              "      <td>0</td>\n",
              "      <td>0</td>\n",
              "      <td>0</td>\n",
              "      <td>5</td>\n",
              "      <td>0</td>\n",
              "      <td>967</td>\n",
              "      <td>0</td>\n",
              "      <td>28</td>\n",
              "    </tr>\n",
              "    <tr>\n",
              "      <th>8</th>\n",
              "      <td>3</td>\n",
              "      <td>1</td>\n",
              "      <td>5</td>\n",
              "      <td>3</td>\n",
              "      <td>3</td>\n",
              "      <td>1</td>\n",
              "      <td>4</td>\n",
              "      <td>4</td>\n",
              "      <td>976</td>\n",
              "      <td>0</td>\n",
              "    </tr>\n",
              "    <tr>\n",
              "      <th>9</th>\n",
              "      <td>0</td>\n",
              "      <td>0</td>\n",
              "      <td>0</td>\n",
              "      <td>1</td>\n",
              "      <td>0</td>\n",
              "      <td>3</td>\n",
              "      <td>1</td>\n",
              "      <td>25</td>\n",
              "      <td>0</td>\n",
              "      <td>970</td>\n",
              "    </tr>\n",
              "  </tbody>\n",
              "</table>\n",
              "</div>\n",
              "      <button class=\"colab-df-convert\" onclick=\"convertToInteractive('df-08bbc442-136d-4d60-bff1-c64f3de02f7a')\"\n",
              "              title=\"Convert this dataframe to an interactive table.\"\n",
              "              style=\"display:none;\">\n",
              "        \n",
              "  <svg xmlns=\"http://www.w3.org/2000/svg\" height=\"24px\"viewBox=\"0 0 24 24\"\n",
              "       width=\"24px\">\n",
              "    <path d=\"M0 0h24v24H0V0z\" fill=\"none\"/>\n",
              "    <path d=\"M18.56 5.44l.94 2.06.94-2.06 2.06-.94-2.06-.94-.94-2.06-.94 2.06-2.06.94zm-11 1L8.5 8.5l.94-2.06 2.06-.94-2.06-.94L8.5 2.5l-.94 2.06-2.06.94zm10 10l.94 2.06.94-2.06 2.06-.94-2.06-.94-.94-2.06-.94 2.06-2.06.94z\"/><path d=\"M17.41 7.96l-1.37-1.37c-.4-.4-.92-.59-1.43-.59-.52 0-1.04.2-1.43.59L10.3 9.45l-7.72 7.72c-.78.78-.78 2.05 0 2.83L4 21.41c.39.39.9.59 1.41.59.51 0 1.02-.2 1.41-.59l7.78-7.78 2.81-2.81c.8-.78.8-2.07 0-2.86zM5.41 20L4 18.59l7.72-7.72 1.47 1.35L5.41 20z\"/>\n",
              "  </svg>\n",
              "      </button>\n",
              "      \n",
              "  <style>\n",
              "    .colab-df-container {\n",
              "      display:flex;\n",
              "      flex-wrap:wrap;\n",
              "      gap: 12px;\n",
              "    }\n",
              "\n",
              "    .colab-df-convert {\n",
              "      background-color: #E8F0FE;\n",
              "      border: none;\n",
              "      border-radius: 50%;\n",
              "      cursor: pointer;\n",
              "      display: none;\n",
              "      fill: #1967D2;\n",
              "      height: 32px;\n",
              "      padding: 0 0 0 0;\n",
              "      width: 32px;\n",
              "    }\n",
              "\n",
              "    .colab-df-convert:hover {\n",
              "      background-color: #E2EBFA;\n",
              "      box-shadow: 0px 1px 2px rgba(60, 64, 67, 0.3), 0px 1px 3px 1px rgba(60, 64, 67, 0.15);\n",
              "      fill: #174EA6;\n",
              "    }\n",
              "\n",
              "    [theme=dark] .colab-df-convert {\n",
              "      background-color: #3B4455;\n",
              "      fill: #D2E3FC;\n",
              "    }\n",
              "\n",
              "    [theme=dark] .colab-df-convert:hover {\n",
              "      background-color: #434B5C;\n",
              "      box-shadow: 0px 1px 3px 1px rgba(0, 0, 0, 0.15);\n",
              "      filter: drop-shadow(0px 1px 2px rgba(0, 0, 0, 0.3));\n",
              "      fill: #FFFFFF;\n",
              "    }\n",
              "  </style>\n",
              "\n",
              "      <script>\n",
              "        const buttonEl =\n",
              "          document.querySelector('#df-08bbc442-136d-4d60-bff1-c64f3de02f7a button.colab-df-convert');\n",
              "        buttonEl.style.display =\n",
              "          google.colab.kernel.accessAllowed ? 'block' : 'none';\n",
              "\n",
              "        async function convertToInteractive(key) {\n",
              "          const element = document.querySelector('#df-08bbc442-136d-4d60-bff1-c64f3de02f7a');\n",
              "          const dataTable =\n",
              "            await google.colab.kernel.invokeFunction('convertToInteractive',\n",
              "                                                     [key], {});\n",
              "          if (!dataTable) return;\n",
              "\n",
              "          const docLinkHtml = 'Like what you see? Visit the ' +\n",
              "            '<a target=\"_blank\" href=https://colab.research.google.com/notebooks/data_table.ipynb>data table notebook</a>'\n",
              "            + ' to learn more about interactive tables.';\n",
              "          element.innerHTML = '';\n",
              "          dataTable['output_type'] = 'display_data';\n",
              "          await google.colab.output.renderOutput(dataTable, element);\n",
              "          const docLink = document.createElement('div');\n",
              "          docLink.innerHTML = docLinkHtml;\n",
              "          element.appendChild(docLink);\n",
              "        }\n",
              "      </script>\n",
              "    </div>\n",
              "  </div>\n",
              "  "
            ]
          },
          "metadata": {},
          "execution_count": 30
        }
      ]
    },
    {
      "cell_type": "code",
      "source": [
        "#correct values are present in the diagonal\n",
        "#rest all are incorrect"
      ],
      "metadata": {
        "id": "A2CMa9SXxIY7"
      },
      "execution_count": null,
      "outputs": []
    },
    {
      "cell_type": "code",
      "source": [
        "accuracy_score(y_test,y_pred)"
      ],
      "metadata": {
        "colab": {
          "base_uri": "https://localhost:8080/"
        },
        "id": "S8A_YkDXw6xe",
        "outputId": "3e1f574e-66e9-4e21-e3a6-b0d739739990"
      },
      "execution_count": null,
      "outputs": [
        {
          "output_type": "execute_result",
          "data": {
            "text/plain": [
              "0.8949"
            ]
          },
          "metadata": {},
          "execution_count": 32
        }
      ]
    },
    {
      "cell_type": "code",
      "source": [
        "!pip install streamlit==0.83.0 --quiet\n",
        "!pip install streamlit-drawable-canvas --quiet"
      ],
      "metadata": {
        "colab": {
          "base_uri": "https://localhost:8080/"
        },
        "id": "i2iK4cbpxXSw",
        "outputId": "a811a487-e9a7-40d8-a205-29b8738be2d6"
      },
      "execution_count": null,
      "outputs": [
        {
          "output_type": "stream",
          "name": "stdout",
          "text": [
            "\u001b[2K     \u001b[90m━━━━━━━━━━━━━━━━━━━━━━━━━━━━━━━━━━━━━━━━\u001b[0m \u001b[32m7.7/7.7 MB\u001b[0m \u001b[31m23.6 MB/s\u001b[0m eta \u001b[36m0:00:00\u001b[0m\n",
            "\u001b[2K     \u001b[90m━━━━━━━━━━━━━━━━━━━━━━━━━━━━━━━━━━━━━━━━\u001b[0m \u001b[32m4.7/4.7 MB\u001b[0m \u001b[31m75.7 MB/s\u001b[0m eta \u001b[36m0:00:00\u001b[0m\n",
            "\u001b[2K     \u001b[90m━━━━━━━━━━━━━━━━━━━━━━━━━━━━━━━━━━━━━━\u001b[0m \u001b[32m184.0/184.0 KB\u001b[0m \u001b[31m20.7 MB/s\u001b[0m eta \u001b[36m0:00:00\u001b[0m\n",
            "\u001b[?25h  Preparing metadata (setup.py) ... \u001b[?25l\u001b[?25hdone\n",
            "\u001b[2K     \u001b[90m━━━━━━━━━━━━━━━━━━━━━━━━━━━━━━━━━━━━━━━━\u001b[0m \u001b[32m79.0/79.0 KB\u001b[0m \u001b[31m9.7 MB/s\u001b[0m eta \u001b[36m0:00:00\u001b[0m\n",
            "\u001b[2K     \u001b[90m━━━━━━━━━━━━━━━━━━━━━━━━━━━━━━━━━━━━━━━━\u001b[0m \u001b[32m62.7/62.7 KB\u001b[0m \u001b[31m6.0 MB/s\u001b[0m eta \u001b[36m0:00:00\u001b[0m\n",
            "\u001b[?25h  Building wheel for validators (setup.py) ... \u001b[?25l\u001b[?25hdone\n",
            "\u001b[2K     \u001b[90m━━━━━━━━━━━━━━━━━━━━━━━━━━━━━━━━━━━━━━━━\u001b[0m \u001b[32m1.2/1.2 MB\u001b[0m \u001b[31m5.3 MB/s\u001b[0m eta \u001b[36m0:00:00\u001b[0m\n",
            "\u001b[?25h"
          ]
        }
      ]
    },
    {
      "cell_type": "code",
      "source": [
        "model.save('model_digit.hdf5')"
      ],
      "metadata": {
        "id": "AKwDEl8cxXP6"
      },
      "execution_count": null,
      "outputs": []
    },
    {
      "cell_type": "code",
      "source": [
        "%%writefile app.py\n",
        "import streamlit as st\n",
        "import numpy as np\n",
        "from streamlit_drawable_canvas import st_canvas\n",
        "from tensorflow import keras\n",
        "import cv2\n",
        "\n",
        "model=keras.models.load_model('model_digit.hdf5',compile=False)\n",
        "\n",
        "st.title(\"MNIST Image Classification using ANN\")\n",
        "st.subheader(\"Draw the fashion item in the below given space and click on PREDICT\")\n",
        "col1,col2=st.beta_columns(2)\n",
        "\n",
        "with col1:\n",
        "  st.write(\"Original Image\")\n",
        "  canvas_result=st_canvas(fill_color='#000000',stroke_width=20,stroke_color='#32cf1d',\n",
        "  background_color='#000000',width=225,height=225,drawing_mode='freedraw')\n",
        "\n",
        "with col2:\n",
        "  if canvas_result.image_data is not None:\n",
        "    img=cv2.resize(canvas_result.image_data.astype('uint8'),(28,28))\n",
        "    rescaled=cv2.resize(img,(225,225))\n",
        "    st.write(\"Rescaled Image\")\n",
        "    st.image(rescaled)\n",
        "\n",
        "\n",
        "if st.button(\"PREDICT\"):\n",
        "  test_x=cv2.cvtColor(img,cv2.COLOR_BGR2GRAY)\n",
        "  test_x=np.expand_dims(test_x,axis=0)\n",
        "  val=model.predict(test_x)\n",
        "  st.title(f'Result:{np.argmax(val[0])}')\n",
        "  st.bar_chart(val[0])"
      ],
      "metadata": {
        "colab": {
          "base_uri": "https://localhost:8080/"
        },
        "id": "G-1OJn4MxXJG",
        "outputId": "bb155047-cd7d-47b8-8c2d-a35bed567bdb"
      },
      "execution_count": null,
      "outputs": [
        {
          "output_type": "stream",
          "name": "stdout",
          "text": [
            "Overwriting app.py\n"
          ]
        }
      ]
    },
    {
      "cell_type": "code",
      "source": [
        "#The classes are:\n",
        "\n",
        "#Label\tDescription\n",
        "#0\tT-shirt/top\n",
        "#1\tTrouser\n",
        "#2\tPullover\n",
        "#3\tDress\n",
        "#4\tCoat\n",
        "#5\tSandal\n",
        "#6\tShirt\n",
        "#7\tSneaker\n",
        "#8\tBag\n",
        "#9\tAnkle boot"
      ],
      "metadata": {
        "id": "vqF5FwWR0Sgv"
      },
      "execution_count": null,
      "outputs": []
    },
    {
      "cell_type": "code",
      "source": [
        "!streamlit run app.py & npx localtunnel --port 8501"
      ],
      "metadata": {
        "colab": {
          "base_uri": "https://localhost:8080/"
        },
        "id": "r-QRdC8kxfTm",
        "outputId": "53dd6e85-ccdb-4d01-bda9-49603d7a0210"
      },
      "execution_count": null,
      "outputs": [
        {
          "output_type": "stream",
          "name": "stdout",
          "text": [
            "2023-01-31 12:33:40.112 INFO    numexpr.utils: NumExpr defaulting to 2 threads.\n",
            "\u001b[0m\n",
            "\u001b[34m\u001b[1m  You can now view your Streamlit app in your browser.\u001b[0m\n",
            "\u001b[0m\n",
            "\u001b[34m  Network URL: \u001b[0m\u001b[1mhttp://172.28.0.12:8501\u001b[0m\n",
            "\u001b[34m  External URL: \u001b[0m\u001b[1mhttp://34.125.206.95:8501\u001b[0m\n",
            "\u001b[0m\n",
            "\u001b[K\u001b[?25hnpx: installed 22 in 3.336s\n",
            "your url is: https://loud-humans-wink-34-125-206-95.loca.lt\n",
            "2023-01-31 12:33:44.953371: E tensorflow/stream_executor/cuda/cuda_driver.cc:271] failed call to cuInit: CUDA_ERROR_NO_DEVICE: no CUDA-capable device is detected\n",
            "1/1 [==============================] - 0s 83ms/step\n",
            "1/1 [==============================] - 0s 51ms/step\n",
            "\u001b[34m  Stopping...\u001b[0m\n",
            "^C\n"
          ]
        }
      ]
    }
  ]
}